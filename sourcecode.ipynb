{
 "cells": [
  {
   "cell_type": "code",
   "execution_count": 249,
   "metadata": {
    "id": "6cFmSGWnCP74"
   },
   "outputs": [],
   "source": [
    "import pandas as pd\n",
    "import seaborn as sns\n",
    "import matplotlib.pyplot as plt\n",
    "from sklearn.preprocessing import LabelEncoder\n",
    "from sklearn.preprocessing import MinMaxScaler\n",
    "from sklearn.model_selection import train_test_split\n",
    "from sklearn.svm import SVC\n",
    "from sklearn.linear_model import LogisticRegression\n",
    "from sklearn.ensemble import RandomForestClassifier\n",
    "from  sklearn.neighbors import KNeighborsClassifier\n",
    "from sklearn.model_selection import GridSearchCV\n",
    "from sklearn import metrics\n",
    "from sklearn.metrics import roc_auc_score\n",
    "from sklearn.metrics import roc_curve\n",
    "from sklearn.metrics import accuracy_score,confusion_matrix,precision_score,recall_score,classification_report,f1_score"
   ]
  },
  {
   "cell_type": "code",
   "execution_count": 251,
   "metadata": {
    "id": "bhaIY1tzCh1T"
   },
   "outputs": [],
   "source": [
    "data=pd.read_csv(\"predictive_maintenance_dataset.csv\")"
   ]
  },
  {
   "cell_type": "code",
   "execution_count": 252,
   "metadata": {
    "colab": {
     "base_uri": "https://localhost:8080/",
     "height": 268
    },
    "id": "aSX263APCohC",
    "outputId": "47a071ae-6e4d-46cf-9fd6-6eda1f09d14e"
   },
   "outputs": [
    {
     "data": {
      "text/html": [
       "<div>\n",
       "<style scoped>\n",
       "    .dataframe tbody tr th:only-of-type {\n",
       "        vertical-align: middle;\n",
       "    }\n",
       "\n",
       "    .dataframe tbody tr th {\n",
       "        vertical-align: top;\n",
       "    }\n",
       "\n",
       "    .dataframe thead th {\n",
       "        text-align: right;\n",
       "    }\n",
       "</style>\n",
       "<table border=\"1\" class=\"dataframe\">\n",
       "  <thead>\n",
       "    <tr style=\"text-align: right;\">\n",
       "      <th></th>\n",
       "      <th>UDI</th>\n",
       "      <th>Product ID</th>\n",
       "      <th>Type</th>\n",
       "      <th>Air temperature [K]</th>\n",
       "      <th>Process temperature [K]</th>\n",
       "      <th>Rotational speed [rpm]</th>\n",
       "      <th>Torque [Nm]</th>\n",
       "      <th>Tool wear [min]</th>\n",
       "      <th>Target</th>\n",
       "      <th>Failure Type</th>\n",
       "    </tr>\n",
       "  </thead>\n",
       "  <tbody>\n",
       "    <tr>\n",
       "      <th>0</th>\n",
       "      <td>1</td>\n",
       "      <td>M14860</td>\n",
       "      <td>M</td>\n",
       "      <td>298.1</td>\n",
       "      <td>308.6</td>\n",
       "      <td>1551</td>\n",
       "      <td>42.8</td>\n",
       "      <td>0</td>\n",
       "      <td>0</td>\n",
       "      <td>No Failure</td>\n",
       "    </tr>\n",
       "    <tr>\n",
       "      <th>1</th>\n",
       "      <td>2</td>\n",
       "      <td>L47181</td>\n",
       "      <td>L</td>\n",
       "      <td>298.2</td>\n",
       "      <td>308.7</td>\n",
       "      <td>1408</td>\n",
       "      <td>46.3</td>\n",
       "      <td>3</td>\n",
       "      <td>0</td>\n",
       "      <td>No Failure</td>\n",
       "    </tr>\n",
       "    <tr>\n",
       "      <th>2</th>\n",
       "      <td>3</td>\n",
       "      <td>L47182</td>\n",
       "      <td>L</td>\n",
       "      <td>298.1</td>\n",
       "      <td>308.5</td>\n",
       "      <td>1498</td>\n",
       "      <td>49.4</td>\n",
       "      <td>5</td>\n",
       "      <td>0</td>\n",
       "      <td>No Failure</td>\n",
       "    </tr>\n",
       "    <tr>\n",
       "      <th>3</th>\n",
       "      <td>4</td>\n",
       "      <td>L47183</td>\n",
       "      <td>L</td>\n",
       "      <td>298.2</td>\n",
       "      <td>308.6</td>\n",
       "      <td>1433</td>\n",
       "      <td>39.5</td>\n",
       "      <td>7</td>\n",
       "      <td>0</td>\n",
       "      <td>No Failure</td>\n",
       "    </tr>\n",
       "    <tr>\n",
       "      <th>4</th>\n",
       "      <td>5</td>\n",
       "      <td>L47184</td>\n",
       "      <td>L</td>\n",
       "      <td>298.2</td>\n",
       "      <td>308.7</td>\n",
       "      <td>1408</td>\n",
       "      <td>40.0</td>\n",
       "      <td>9</td>\n",
       "      <td>0</td>\n",
       "      <td>No Failure</td>\n",
       "    </tr>\n",
       "  </tbody>\n",
       "</table>\n",
       "</div>"
      ],
      "text/plain": [
       "   UDI Product ID Type  Air temperature [K]  Process temperature [K]  \\\n",
       "0    1     M14860    M                298.1                    308.6   \n",
       "1    2     L47181    L                298.2                    308.7   \n",
       "2    3     L47182    L                298.1                    308.5   \n",
       "3    4     L47183    L                298.2                    308.6   \n",
       "4    5     L47184    L                298.2                    308.7   \n",
       "\n",
       "   Rotational speed [rpm]  Torque [Nm]  Tool wear [min]  Target Failure Type  \n",
       "0                    1551         42.8                0       0   No Failure  \n",
       "1                    1408         46.3                3       0   No Failure  \n",
       "2                    1498         49.4                5       0   No Failure  \n",
       "3                    1433         39.5                7       0   No Failure  \n",
       "4                    1408         40.0                9       0   No Failure  "
      ]
     },
     "execution_count": 252,
     "metadata": {},
     "output_type": "execute_result"
    }
   ],
   "source": [
    "data.head()"
   ]
  },
  {
   "cell_type": "code",
   "execution_count": 253,
   "metadata": {
    "colab": {
     "base_uri": "https://localhost:8080/"
    },
    "id": "meR62gCNCsPM",
    "outputId": "74b4a2d1-fbed-4cc4-f365-c3e1ac6bda2b"
   },
   "outputs": [
    {
     "name": "stdout",
     "output_type": "stream",
     "text": [
      "<class 'pandas.core.frame.DataFrame'>\n",
      "RangeIndex: 10000 entries, 0 to 9999\n",
      "Data columns (total 10 columns):\n",
      " #   Column                   Non-Null Count  Dtype  \n",
      "---  ------                   --------------  -----  \n",
      " 0   UDI                      10000 non-null  int64  \n",
      " 1   Product ID               10000 non-null  object \n",
      " 2   Type                     10000 non-null  object \n",
      " 3   Air temperature [K]      10000 non-null  float64\n",
      " 4   Process temperature [K]  10000 non-null  float64\n",
      " 5   Rotational speed [rpm]   10000 non-null  int64  \n",
      " 6   Torque [Nm]              10000 non-null  float64\n",
      " 7   Tool wear [min]          10000 non-null  int64  \n",
      " 8   Target                   10000 non-null  int64  \n",
      " 9   Failure Type             10000 non-null  object \n",
      "dtypes: float64(3), int64(4), object(3)\n",
      "memory usage: 781.4+ KB\n"
     ]
    }
   ],
   "source": [
    "data.info()"
   ]
  },
  {
   "cell_type": "code",
   "execution_count": 254,
   "metadata": {
    "id": "m4MG_Js9CzY0"
   },
   "outputs": [],
   "source": [
    "data.drop(columns=['Product ID','UDI'],inplace=True,axis=1)"
   ]
  },
  {
   "cell_type": "code",
   "execution_count": 255,
   "metadata": {
    "colab": {
     "base_uri": "https://localhost:8080/",
     "height": 268
    },
    "id": "zBMr2r1pDCLG",
    "outputId": "386bc42e-e76e-46eb-969b-fc04f8628720"
   },
   "outputs": [
    {
     "data": {
      "text/html": [
       "<div>\n",
       "<style scoped>\n",
       "    .dataframe tbody tr th:only-of-type {\n",
       "        vertical-align: middle;\n",
       "    }\n",
       "\n",
       "    .dataframe tbody tr th {\n",
       "        vertical-align: top;\n",
       "    }\n",
       "\n",
       "    .dataframe thead th {\n",
       "        text-align: right;\n",
       "    }\n",
       "</style>\n",
       "<table border=\"1\" class=\"dataframe\">\n",
       "  <thead>\n",
       "    <tr style=\"text-align: right;\">\n",
       "      <th></th>\n",
       "      <th>Type</th>\n",
       "      <th>Air temperature [K]</th>\n",
       "      <th>Process temperature [K]</th>\n",
       "      <th>Rotational speed [rpm]</th>\n",
       "      <th>Torque [Nm]</th>\n",
       "      <th>Tool wear [min]</th>\n",
       "      <th>Target</th>\n",
       "      <th>Failure Type</th>\n",
       "    </tr>\n",
       "  </thead>\n",
       "  <tbody>\n",
       "    <tr>\n",
       "      <th>0</th>\n",
       "      <td>M</td>\n",
       "      <td>298.1</td>\n",
       "      <td>308.6</td>\n",
       "      <td>1551</td>\n",
       "      <td>42.8</td>\n",
       "      <td>0</td>\n",
       "      <td>0</td>\n",
       "      <td>No Failure</td>\n",
       "    </tr>\n",
       "    <tr>\n",
       "      <th>1</th>\n",
       "      <td>L</td>\n",
       "      <td>298.2</td>\n",
       "      <td>308.7</td>\n",
       "      <td>1408</td>\n",
       "      <td>46.3</td>\n",
       "      <td>3</td>\n",
       "      <td>0</td>\n",
       "      <td>No Failure</td>\n",
       "    </tr>\n",
       "    <tr>\n",
       "      <th>2</th>\n",
       "      <td>L</td>\n",
       "      <td>298.1</td>\n",
       "      <td>308.5</td>\n",
       "      <td>1498</td>\n",
       "      <td>49.4</td>\n",
       "      <td>5</td>\n",
       "      <td>0</td>\n",
       "      <td>No Failure</td>\n",
       "    </tr>\n",
       "    <tr>\n",
       "      <th>3</th>\n",
       "      <td>L</td>\n",
       "      <td>298.2</td>\n",
       "      <td>308.6</td>\n",
       "      <td>1433</td>\n",
       "      <td>39.5</td>\n",
       "      <td>7</td>\n",
       "      <td>0</td>\n",
       "      <td>No Failure</td>\n",
       "    </tr>\n",
       "    <tr>\n",
       "      <th>4</th>\n",
       "      <td>L</td>\n",
       "      <td>298.2</td>\n",
       "      <td>308.7</td>\n",
       "      <td>1408</td>\n",
       "      <td>40.0</td>\n",
       "      <td>9</td>\n",
       "      <td>0</td>\n",
       "      <td>No Failure</td>\n",
       "    </tr>\n",
       "  </tbody>\n",
       "</table>\n",
       "</div>"
      ],
      "text/plain": [
       "  Type  Air temperature [K]  Process temperature [K]  Rotational speed [rpm]  \\\n",
       "0    M                298.1                    308.6                    1551   \n",
       "1    L                298.2                    308.7                    1408   \n",
       "2    L                298.1                    308.5                    1498   \n",
       "3    L                298.2                    308.6                    1433   \n",
       "4    L                298.2                    308.7                    1408   \n",
       "\n",
       "   Torque [Nm]  Tool wear [min]  Target Failure Type  \n",
       "0         42.8                0       0   No Failure  \n",
       "1         46.3                3       0   No Failure  \n",
       "2         49.4                5       0   No Failure  \n",
       "3         39.5                7       0   No Failure  \n",
       "4         40.0                9       0   No Failure  "
      ]
     },
     "execution_count": 255,
     "metadata": {},
     "output_type": "execute_result"
    }
   ],
   "source": [
    "data.head()"
   ]
  },
  {
   "cell_type": "code",
   "execution_count": 256,
   "metadata": {},
   "outputs": [
    {
     "data": {
      "text/plain": [
       "<AxesSubplot:xlabel='Failure Type', ylabel='count'>"
      ]
     },
     "execution_count": 256,
     "metadata": {},
     "output_type": "execute_result"
    },
    {
     "data": {
      "image/png": "[encoded data removed]",
      "text/plain": [
       "<Figure size 720x360 with 1 Axes>"
      ]
     },
     "metadata": {
      "needs_background": "light"
     },
     "output_type": "display_data"
    }
   ],
   "source": [
    "plt.figure(figsize=(10,5))\n",
    "sns.countplot(data=data[data['Target']==1],x=\"Failure Type\")"
   ]
  },
  {
   "cell_type": "code",
   "execution_count": 257,
   "metadata": {
    "id": "Xr6cDM-KDEgF"
   },
   "outputs": [],
   "source": [
    "label=LabelEncoder()\n",
    "data['Type']=label.fit_transform(data['Type'])\n",
    "data['Failure Type']=label.fit_transform(data['Failure Type'])"
   ]
  },
  {
   "cell_type": "code",
   "execution_count": 258,
   "metadata": {
    "colab": {
     "base_uri": "https://localhost:8080/",
     "height": 268
    },
    "id": "zAzc9U0xDn5U",
    "outputId": "10d72402-f69a-490c-bc0f-b0370b36b44f"
   },
   "outputs": [
    {
     "data": {
      "text/plain": [
       "array([1, 3, 5, 2, 4, 0])"
      ]
     },
     "execution_count": 258,
     "metadata": {},
     "output_type": "execute_result"
    }
   ],
   "source": [
    "data['Failure Type'].unique()\n"
   ]
  },
  {
   "cell_type": "code",
   "execution_count": 259,
   "metadata": {},
   "outputs": [
    {
     "data": {
      "text/html": [
       "<div>\n",
       "<style scoped>\n",
       "    .dataframe tbody tr th:only-of-type {\n",
       "        vertical-align: middle;\n",
       "    }\n",
       "\n",
       "    .dataframe tbody tr th {\n",
       "        vertical-align: top;\n",
       "    }\n",
       "\n",
       "    .dataframe thead th {\n",
       "        text-align: right;\n",
       "    }\n",
       "</style>\n",
       "<table border=\"1\" class=\"dataframe\">\n",
       "  <thead>\n",
       "    <tr style=\"text-align: right;\">\n",
       "      <th></th>\n",
       "      <th>Type</th>\n",
       "      <th>Air temperature [K]</th>\n",
       "      <th>Process temperature [K]</th>\n",
       "      <th>Rotational speed [rpm]</th>\n",
       "      <th>Torque [Nm]</th>\n",
       "      <th>Tool wear [min]</th>\n",
       "      <th>Target</th>\n",
       "      <th>Failure Type</th>\n",
       "    </tr>\n",
       "  </thead>\n",
       "  <tbody>\n",
       "    <tr>\n",
       "      <th>0</th>\n",
       "      <td>2</td>\n",
       "      <td>298.1</td>\n",
       "      <td>308.6</td>\n",
       "      <td>1551</td>\n",
       "      <td>42.8</td>\n",
       "      <td>0</td>\n",
       "      <td>0</td>\n",
       "      <td>1</td>\n",
       "    </tr>\n",
       "    <tr>\n",
       "      <th>1</th>\n",
       "      <td>1</td>\n",
       "      <td>298.2</td>\n",
       "      <td>308.7</td>\n",
       "      <td>1408</td>\n",
       "      <td>46.3</td>\n",
       "      <td>3</td>\n",
       "      <td>0</td>\n",
       "      <td>1</td>\n",
       "    </tr>\n",
       "    <tr>\n",
       "      <th>2</th>\n",
       "      <td>1</td>\n",
       "      <td>298.1</td>\n",
       "      <td>308.5</td>\n",
       "      <td>1498</td>\n",
       "      <td>49.4</td>\n",
       "      <td>5</td>\n",
       "      <td>0</td>\n",
       "      <td>1</td>\n",
       "    </tr>\n",
       "    <tr>\n",
       "      <th>3</th>\n",
       "      <td>1</td>\n",
       "      <td>298.2</td>\n",
       "      <td>308.6</td>\n",
       "      <td>1433</td>\n",
       "      <td>39.5</td>\n",
       "      <td>7</td>\n",
       "      <td>0</td>\n",
       "      <td>1</td>\n",
       "    </tr>\n",
       "    <tr>\n",
       "      <th>4</th>\n",
       "      <td>1</td>\n",
       "      <td>298.2</td>\n",
       "      <td>308.7</td>\n",
       "      <td>1408</td>\n",
       "      <td>40.0</td>\n",
       "      <td>9</td>\n",
       "      <td>0</td>\n",
       "      <td>1</td>\n",
       "    </tr>\n",
       "  </tbody>\n",
       "</table>\n",
       "</div>"
      ],
      "text/plain": [
       "   Type  Air temperature [K]  Process temperature [K]  Rotational speed [rpm]  \\\n",
       "0     2                298.1                    308.6                    1551   \n",
       "1     1                298.2                    308.7                    1408   \n",
       "2     1                298.1                    308.5                    1498   \n",
       "3     1                298.2                    308.6                    1433   \n",
       "4     1                298.2                    308.7                    1408   \n",
       "\n",
       "   Torque [Nm]  Tool wear [min]  Target  Failure Type  \n",
       "0         42.8                0       0             1  \n",
       "1         46.3                3       0             1  \n",
       "2         49.4                5       0             1  \n",
       "3         39.5                7       0             1  \n",
       "4         40.0                9       0             1  "
      ]
     },
     "execution_count": 259,
     "metadata": {},
     "output_type": "execute_result"
    }
   ],
   "source": [
    "data.head()"
   ]
  },
  {
   "cell_type": "code",
   "execution_count": 260,
   "metadata": {
    "id": "4_4r5QRmTxxY"
   },
   "outputs": [],
   "source": [
    "scaler = MinMaxScaler()\n",
    "data[['Air temperature [K]','Process temperature [K]','Rotational speed [rpm]','Torque [Nm]','Tool wear [min]']]=scaler.fit_transform(data[['Air temperature [K]','Process temperature [K]','Rotational speed [rpm]','Torque [Nm]','Tool wear [min]']])"
   ]
  },
  {
   "cell_type": "code",
   "execution_count": 261,
   "metadata": {
    "colab": {
     "base_uri": "https://localhost:8080/",
     "height": 268
    },
    "id": "pPGpEotlUICF",
    "outputId": "b1bcef37-c74b-44c8-9e04-808254754771"
   },
   "outputs": [
    {
     "data": {
      "text/html": [
       "<div>\n",
       "<style scoped>\n",
       "    .dataframe tbody tr th:only-of-type {\n",
       "        vertical-align: middle;\n",
       "    }\n",
       "\n",
       "    .dataframe tbody tr th {\n",
       "        vertical-align: top;\n",
       "    }\n",
       "\n",
       "    .dataframe thead th {\n",
       "        text-align: right;\n",
       "    }\n",
       "</style>\n",
       "<table border=\"1\" class=\"dataframe\">\n",
       "  <thead>\n",
       "    <tr style=\"text-align: right;\">\n",
       "      <th></th>\n",
       "      <th>Type</th>\n",
       "      <th>Air temperature [K]</th>\n",
       "      <th>Process temperature [K]</th>\n",
       "      <th>Rotational speed [rpm]</th>\n",
       "      <th>Torque [Nm]</th>\n",
       "      <th>Tool wear [min]</th>\n",
       "      <th>Target</th>\n",
       "      <th>Failure Type</th>\n",
       "    </tr>\n",
       "  </thead>\n",
       "  <tbody>\n",
       "    <tr>\n",
       "      <th>0</th>\n",
       "      <td>2</td>\n",
       "      <td>0.304348</td>\n",
       "      <td>0.358025</td>\n",
       "      <td>0.222934</td>\n",
       "      <td>0.535714</td>\n",
       "      <td>0.000000</td>\n",
       "      <td>0</td>\n",
       "      <td>1</td>\n",
       "    </tr>\n",
       "    <tr>\n",
       "      <th>1</th>\n",
       "      <td>1</td>\n",
       "      <td>0.315217</td>\n",
       "      <td>0.370370</td>\n",
       "      <td>0.139697</td>\n",
       "      <td>0.583791</td>\n",
       "      <td>0.011858</td>\n",
       "      <td>0</td>\n",
       "      <td>1</td>\n",
       "    </tr>\n",
       "    <tr>\n",
       "      <th>2</th>\n",
       "      <td>1</td>\n",
       "      <td>0.304348</td>\n",
       "      <td>0.345679</td>\n",
       "      <td>0.192084</td>\n",
       "      <td>0.626374</td>\n",
       "      <td>0.019763</td>\n",
       "      <td>0</td>\n",
       "      <td>1</td>\n",
       "    </tr>\n",
       "    <tr>\n",
       "      <th>3</th>\n",
       "      <td>1</td>\n",
       "      <td>0.315217</td>\n",
       "      <td>0.358025</td>\n",
       "      <td>0.154249</td>\n",
       "      <td>0.490385</td>\n",
       "      <td>0.027668</td>\n",
       "      <td>0</td>\n",
       "      <td>1</td>\n",
       "    </tr>\n",
       "    <tr>\n",
       "      <th>4</th>\n",
       "      <td>1</td>\n",
       "      <td>0.315217</td>\n",
       "      <td>0.370370</td>\n",
       "      <td>0.139697</td>\n",
       "      <td>0.497253</td>\n",
       "      <td>0.035573</td>\n",
       "      <td>0</td>\n",
       "      <td>1</td>\n",
       "    </tr>\n",
       "  </tbody>\n",
       "</table>\n",
       "</div>"
      ],
      "text/plain": [
       "   Type  Air temperature [K]  Process temperature [K]  Rotational speed [rpm]  \\\n",
       "0     2             0.304348                 0.358025                0.222934   \n",
       "1     1             0.315217                 0.370370                0.139697   \n",
       "2     1             0.304348                 0.345679                0.192084   \n",
       "3     1             0.315217                 0.358025                0.154249   \n",
       "4     1             0.315217                 0.370370                0.139697   \n",
       "\n",
       "   Torque [Nm]  Tool wear [min]  Target  Failure Type  \n",
       "0     0.535714         0.000000       0             1  \n",
       "1     0.583791         0.011858       0             1  \n",
       "2     0.626374         0.019763       0             1  \n",
       "3     0.490385         0.027668       0             1  \n",
       "4     0.497253         0.035573       0             1  "
      ]
     },
     "execution_count": 261,
     "metadata": {},
     "output_type": "execute_result"
    }
   ],
   "source": [
    "data.head()"
   ]
  },
  {
   "cell_type": "code",
   "execution_count": 262,
   "metadata": {
    "id": "kgoLi57pD6JS"
   },
   "outputs": [],
   "source": [
    "x=data[['Type','Air temperature [K]','Process temperature [K]','Rotational speed [rpm]','Torque [Nm]','Tool wear [min]']]\n",
    "y=data['Target']"
   ]
  },
  {
   "cell_type": "code",
   "execution_count": 263,
   "metadata": {
    "id": "ntl14CXGDvXj"
   },
   "outputs": [],
   "source": [
    "x_train,x_test,y_train,y_test=train_test_split(x,y,test_size=0.3,random_state=746)"
   ]
  },
  {
   "cell_type": "markdown",
   "metadata": {},
   "source": [
    "## Logistic Regression"
   ]
  },
  {
   "cell_type": "code",
   "execution_count": 264,
   "metadata": {},
   "outputs": [],
   "source": [
    "lgr1=LogisticRegression()\n",
    "lgr1.fit(x_train,y_train)\n",
    "y_pred_lgr1=lgr1.predict(x_test)"
   ]
  },
  {
   "cell_type": "code",
   "execution_count": 265,
   "metadata": {},
   "outputs": [
    {
     "name": "stdout",
     "output_type": "stream",
     "text": [
      "Accuracy Score of logistic regression [Target] :  0.969\n",
      "Confusion Matrix of logistic regression [Target] :\n",
      " [[2905    0]\n",
      " [  94    1]]\n",
      "Classification Report of logistic regression[Target] : \n",
      "               precision    recall  f1-score   support\n",
      "\n",
      "           0       0.97      1.00      0.98      2905\n",
      "           1       1.00      0.01      0.02        95\n",
      "\n",
      "    accuracy                           0.97      3000\n",
      "   macro avg       0.98      0.51      0.50      3000\n",
      "weighted avg       0.97      0.97      0.95      3000\n",
      "\n",
      "Cohen Kappa: 0.020\n"
     ]
    }
   ],
   "source": [
    "accuracy_scr = round(accuracy_score(y_test,y_pred_lgr1), 3)\n",
    "print(\"Accuracy Score of logistic regression [Target] : \", accuracy_scr)\n",
    "print(\"Confusion Matrix of logistic regression [Target] :\\n\",confusion_matrix(y_test,y_pred_lgr1))\n",
    "print(\"Classification Report of logistic regression[Target] : \\n\",classification_report(y_test,y_pred_lgr1))\n",
    "\n",
    "cohen3_lgr1 = metrics.cohen_kappa_score(y_test,y_pred_lgr1)\n",
    "print('Cohen Kappa: %.3f' % cohen3_lgr1)"
   ]
  },
  {
   "cell_type": "code",
   "execution_count": 266,
   "metadata": {},
   "outputs": [
    {
     "data": {
      "text/plain": [
       "[Text(0, 0.5, 'False'), Text(0, 1.5, 'True')]"
      ]
     },
     "execution_count": 266,
     "metadata": {},
     "output_type": "execute_result"
    },
    {
     "data": {
      "image/png": "[encoded data removed]",
      "text/plain": [
       "<Figure size 432x288 with 2 Axes>"
      ]
     },
     "metadata": {
      "needs_background": "light"
     },
     "output_type": "display_data"
    }
   ],
   "source": [
    "ax = sns.heatmap(confusion_matrix(y_test,y_pred_lgr1), annot=True, cmap='Pastel2')\n",
    "\n",
    "ax.set_title('logistic regression Confusion Matrix with labels\\n\\n');\n",
    "ax.set_xlabel('\\nPredicted Values')\n",
    "ax.set_ylabel('Actual Values ');\n",
    "\n",
    "## Ticket labels - List must be in alphabetical order\n",
    "ax.xaxis.set_ticklabels(['False','True'])\n",
    "ax.yaxis.set_ticklabels(['False','True'])"
   ]
  },
  {
   "cell_type": "markdown",
   "metadata": {},
   "source": [
    "### SVC Using GridSearch"
   ]
  },
  {
   "cell_type": "code",
   "execution_count": 267,
   "metadata": {
    "colab": {
     "base_uri": "https://localhost:8080/"
    },
    "id": "e634YdaaEeX3",
    "outputId": "a5dcd3f7-7376-4caf-d203-c1593d32dc5c"
   },
   "outputs": [
    {
     "name": "stdout",
     "output_type": "stream",
     "text": [
      "Fitting 5 folds for each of 18 candidates, totalling 90 fits\n",
      "[CV 1/5] END .......C=0.1, degree=1, kernel=rbf;, score=0.966 total time=   0.2s\n",
      "[CV 2/5] END .......C=0.1, degree=1, kernel=rbf;, score=0.965 total time=   0.2s\n",
      "[CV 3/5] END .......C=0.1, degree=1, kernel=rbf;, score=0.965 total time=   0.2s\n",
      "[CV 4/5] END .......C=0.1, degree=1, kernel=rbf;, score=0.965 total time=   0.2s\n",
      "[CV 5/5] END .......C=0.1, degree=1, kernel=rbf;, score=0.965 total time=   0.2s\n",
      "[CV 1/5] END ....C=0.1, degree=1, kernel=linear;, score=0.966 total time=   0.1s\n",
      "[CV 2/5] END ....C=0.1, degree=1, kernel=linear;, score=0.965 total time=   0.1s\n",
      "[CV 3/5] END ....C=0.1, degree=1, kernel=linear;, score=0.965 total time=   0.1s\n",
      "[CV 4/5] END ....C=0.1, degree=1, kernel=linear;, score=0.965 total time=   0.1s\n",
      "[CV 5/5] END ....C=0.1, degree=1, kernel=linear;, score=0.965 total time=   0.1s\n",
      "[CV 1/5] END .......C=0.1, degree=2, kernel=rbf;, score=0.966 total time=   0.2s\n",
      "[CV 2/5] END .......C=0.1, degree=2, kernel=rbf;, score=0.965 total time=   0.2s\n",
      "[CV 3/5] END .......C=0.1, degree=2, kernel=rbf;, score=0.965 total time=   0.2s\n",
      "[CV 4/5] END .......C=0.1, degree=2, kernel=rbf;, score=0.965 total time=   0.2s\n",
      "[CV 5/5] END .......C=0.1, degree=2, kernel=rbf;, score=0.965 total time=   0.2s\n",
      "[CV 1/5] END ....C=0.1, degree=2, kernel=linear;, score=0.966 total time=   0.1s\n",
      "[CV 2/5] END ....C=0.1, degree=2, kernel=linear;, score=0.965 total time=   0.1s\n",
      "[CV 3/5] END ....C=0.1, degree=2, kernel=linear;, score=0.965 total time=   0.1s\n",
      "[CV 4/5] END ....C=0.1, degree=2, kernel=linear;, score=0.965 total time=   0.1s\n",
      "[CV 5/5] END ....C=0.1, degree=2, kernel=linear;, score=0.965 total time=   0.1s\n",
      "[CV 1/5] END .......C=0.1, degree=3, kernel=rbf;, score=0.966 total time=   0.2s\n",
      "[CV 2/5] END .......C=0.1, degree=3, kernel=rbf;, score=0.965 total time=   0.2s\n",
      "[CV 3/5] END .......C=0.1, degree=3, kernel=rbf;, score=0.965 total time=   0.2s\n",
      "[CV 4/5] END .......C=0.1, degree=3, kernel=rbf;, score=0.965 total time=   0.2s\n",
      "[CV 5/5] END .......C=0.1, degree=3, kernel=rbf;, score=0.965 total time=   0.2s\n",
      "[CV 1/5] END ....C=0.1, degree=3, kernel=linear;, score=0.966 total time=   0.1s\n",
      "[CV 2/5] END ....C=0.1, degree=3, kernel=linear;, score=0.965 total time=   0.1s\n",
      "[CV 3/5] END ....C=0.1, degree=3, kernel=linear;, score=0.965 total time=   0.1s\n",
      "[CV 4/5] END ....C=0.1, degree=3, kernel=linear;, score=0.965 total time=   0.1s\n",
      "[CV 5/5] END ....C=0.1, degree=3, kernel=linear;, score=0.965 total time=   0.1s\n",
      "[CV 1/5] END .........C=1, degree=1, kernel=rbf;, score=0.966 total time=   0.2s\n",
      "[CV 2/5] END .........C=1, degree=1, kernel=rbf;, score=0.965 total time=   0.2s\n",
      "[CV 3/5] END .........C=1, degree=1, kernel=rbf;, score=0.965 total time=   0.2s\n",
      "[CV 4/5] END .........C=1, degree=1, kernel=rbf;, score=0.965 total time=   0.2s\n",
      "[CV 5/5] END .........C=1, degree=1, kernel=rbf;, score=0.965 total time=   0.2s\n",
      "[CV 1/5] END ......C=1, degree=1, kernel=linear;, score=0.966 total time=   0.1s\n",
      "[CV 2/5] END ......C=1, degree=1, kernel=linear;, score=0.965 total time=   0.1s\n",
      "[CV 3/5] END ......C=1, degree=1, kernel=linear;, score=0.965 total time=   0.1s\n",
      "[CV 4/5] END ......C=1, degree=1, kernel=linear;, score=0.965 total time=   0.1s\n",
      "[CV 5/5] END ......C=1, degree=1, kernel=linear;, score=0.965 total time=   0.1s\n",
      "[CV 1/5] END .........C=1, degree=2, kernel=rbf;, score=0.966 total time=   0.2s\n",
      "[CV 2/5] END .........C=1, degree=2, kernel=rbf;, score=0.965 total time=   0.2s\n",
      "[CV 3/5] END .........C=1, degree=2, kernel=rbf;, score=0.965 total time=   0.2s\n",
      "[CV 4/5] END .........C=1, degree=2, kernel=rbf;, score=0.965 total time=   0.2s\n",
      "[CV 5/5] END .........C=1, degree=2, kernel=rbf;, score=0.965 total time=   0.2s\n",
      "[CV 1/5] END ......C=1, degree=2, kernel=linear;, score=0.966 total time=   0.1s\n",
      "[CV 2/5] END ......C=1, degree=2, kernel=linear;, score=0.965 total time=   0.1s\n",
      "[CV 3/5] END ......C=1, degree=2, kernel=linear;, score=0.965 total time=   0.1s\n",
      "[CV 4/5] END ......C=1, degree=2, kernel=linear;, score=0.965 total time=   0.1s\n",
      "[CV 5/5] END ......C=1, degree=2, kernel=linear;, score=0.965 total time=   0.1s\n",
      "[CV 1/5] END .........C=1, degree=3, kernel=rbf;, score=0.966 total time=   0.2s\n",
      "[CV 2/5] END .........C=1, degree=3, kernel=rbf;, score=0.965 total time=   0.2s\n",
      "[CV 3/5] END .........C=1, degree=3, kernel=rbf;, score=0.965 total time=   0.2s\n",
      "[CV 4/5] END .........C=1, degree=3, kernel=rbf;, score=0.965 total time=   0.2s\n",
      "[CV 5/5] END .........C=1, degree=3, kernel=rbf;, score=0.965 total time=   0.2s\n",
      "[CV 1/5] END ......C=1, degree=3, kernel=linear;, score=0.966 total time=   0.1s\n",
      "[CV 2/5] END ......C=1, degree=3, kernel=linear;, score=0.965 total time=   0.1s\n",
      "[CV 3/5] END ......C=1, degree=3, kernel=linear;, score=0.965 total time=   0.1s\n",
      "[CV 4/5] END ......C=1, degree=3, kernel=linear;, score=0.965 total time=   0.1s\n",
      "[CV 5/5] END ......C=1, degree=3, kernel=linear;, score=0.965 total time=   0.1s\n",
      "[CV 1/5] END ........C=10, degree=1, kernel=rbf;, score=0.974 total time=   0.2s\n",
      "[CV 2/5] END ........C=10, degree=1, kernel=rbf;, score=0.972 total time=   0.2s\n",
      "[CV 3/5] END ........C=10, degree=1, kernel=rbf;, score=0.973 total time=   0.2s\n",
      "[CV 4/5] END ........C=10, degree=1, kernel=rbf;, score=0.973 total time=   0.2s\n",
      "[CV 5/5] END ........C=10, degree=1, kernel=rbf;, score=0.973 total time=   0.2s\n",
      "[CV 1/5] END .....C=10, degree=1, kernel=linear;, score=0.966 total time=   0.1s\n",
      "[CV 2/5] END .....C=10, degree=1, kernel=linear;, score=0.965 total time=   0.1s\n",
      "[CV 3/5] END .....C=10, degree=1, kernel=linear;, score=0.965 total time=   0.1s\n",
      "[CV 4/5] END .....C=10, degree=1, kernel=linear;, score=0.965 total time=   0.1s\n",
      "[CV 5/5] END .....C=10, degree=1, kernel=linear;, score=0.965 total time=   0.1s\n",
      "[CV 1/5] END ........C=10, degree=2, kernel=rbf;, score=0.974 total time=   0.2s\n",
      "[CV 2/5] END ........C=10, degree=2, kernel=rbf;, score=0.972 total time=   0.2s\n",
      "[CV 3/5] END ........C=10, degree=2, kernel=rbf;, score=0.973 total time=   0.2s\n",
      "[CV 4/5] END ........C=10, degree=2, kernel=rbf;, score=0.973 total time=   0.2s\n",
      "[CV 5/5] END ........C=10, degree=2, kernel=rbf;, score=0.973 total time=   0.2s\n",
      "[CV 1/5] END .....C=10, degree=2, kernel=linear;, score=0.966 total time=   0.1s\n",
      "[CV 2/5] END .....C=10, degree=2, kernel=linear;, score=0.965 total time=   0.1s\n",
      "[CV 3/5] END .....C=10, degree=2, kernel=linear;, score=0.965 total time=   0.1s\n",
      "[CV 4/5] END .....C=10, degree=2, kernel=linear;, score=0.965 total time=   0.1s\n",
      "[CV 5/5] END .....C=10, degree=2, kernel=linear;, score=0.965 total time=   0.1s\n",
      "[CV 1/5] END ........C=10, degree=3, kernel=rbf;, score=0.974 total time=   0.2s\n",
      "[CV 2/5] END ........C=10, degree=3, kernel=rbf;, score=0.972 total time=   0.2s\n",
      "[CV 3/5] END ........C=10, degree=3, kernel=rbf;, score=0.973 total time=   0.2s\n",
      "[CV 4/5] END ........C=10, degree=3, kernel=rbf;, score=0.973 total time=   0.2s\n",
      "[CV 5/5] END ........C=10, degree=3, kernel=rbf;, score=0.973 total time=   0.2s\n",
      "[CV 1/5] END .....C=10, degree=3, kernel=linear;, score=0.966 total time=   0.1s\n",
      "[CV 2/5] END .....C=10, degree=3, kernel=linear;, score=0.965 total time=   0.1s\n",
      "[CV 3/5] END .....C=10, degree=3, kernel=linear;, score=0.965 total time=   0.1s\n",
      "[CV 4/5] END .....C=10, degree=3, kernel=linear;, score=0.965 total time=   0.1s\n",
      "[CV 5/5] END .....C=10, degree=3, kernel=linear;, score=0.965 total time=   0.1s\n"
     ]
    },
    {
     "data": {
      "text/plain": [
       "GridSearchCV(estimator=SVC(),\n",
       "             param_grid={'C': [0.1, 1, 10], 'degree': [1, 2, 3],\n",
       "                         'kernel': ['rbf', 'linear']},\n",
       "             verbose=3)"
      ]
     },
     "execution_count": 267,
     "metadata": {},
     "output_type": "execute_result"
    }
   ],
   "source": [
    "param_grid = param_grid = {'C': [0.1, 1, 10],\n",
    "              'degree': [1, 2, 3],\n",
    "              'kernel': ['rbf','linear']}\n",
    "SVC_grid1 = GridSearchCV(SVC(), param_grid, refit = True, verbose = 3)\n",
    "SVC_grid1.fit(x_train, y_train)"
   ]
  },
  {
   "cell_type": "code",
   "execution_count": 268,
   "metadata": {
    "colab": {
     "base_uri": "https://localhost:8080/"
    },
    "id": "No4gcb12HjGu",
    "outputId": "61ae87a5-162c-4dbd-d318-b1ba15818e34"
   },
   "outputs": [
    {
     "name": "stdout",
     "output_type": "stream",
     "text": [
      "Best params from Support Vector Classifier [Target] :  {'C': 10, 'degree': 1, 'kernel': 'rbf'}\n",
      "Accuracy Score of Support Vector Classifier [Target] :  0.975\n",
      "Confusion Matrix of Support Vector Classifier [Target] :\n",
      " [[2905    0]\n",
      " [  75   20]]\n",
      "Classification Report of Support Vector Classifier[Target] : \n",
      "               precision    recall  f1-score   support\n",
      "\n",
      "           0       0.97      1.00      0.99      2905\n",
      "           1       1.00      0.21      0.35        95\n",
      "\n",
      "    accuracy                           0.97      3000\n",
      "   macro avg       0.99      0.61      0.67      3000\n",
      "weighted avg       0.98      0.97      0.97      3000\n",
      "\n",
      "Cohen Kappa: 0.341\n"
     ]
    }
   ],
   "source": [
    "print(\"Best params from Support Vector Classifier [Target] : \",SVC_grid1.best_params_)\n",
    "y_pred_SVC1=SVC_grid1.predict(x_test)\n",
    "print(\"Accuracy Score of Support Vector Classifier [Target] : \",accuracy_score(y_test,y_pred_SVC1))\n",
    "print(\"Confusion Matrix of Support Vector Classifier [Target] :\\n\",confusion_matrix(y_test,y_pred_SVC1))\n",
    "print(\"Classification Report of Support Vector Classifier[Target] : \\n\",classification_report(y_test,y_pred_SVC1))\n",
    "\n",
    "cohen3_SVC1 = metrics.cohen_kappa_score(y_test,y_pred_SVC1)\n",
    "print('Cohen Kappa: %.3f' % cohen3_SVC1)"
   ]
  },
  {
   "cell_type": "code",
   "execution_count": 269,
   "metadata": {},
   "outputs": [
    {
     "data": {
      "text/plain": [
       "[Text(0, 0.5, 'False'), Text(0, 1.5, 'True')]"
      ]
     },
     "execution_count": 269,
     "metadata": {},
     "output_type": "execute_result"
    },
    {
     "data": {
      "image/png": "[encoded data removed]",
      "text/plain": [
       "<Figure size 432x288 with 2 Axes>"
      ]
     },
     "metadata": {
      "needs_background": "light"
     },
     "output_type": "display_data"
    }
   ],
   "source": [
    "ax = sns.heatmap(confusion_matrix(y_test,y_pred_SVC1), annot=True, cmap='Pastel2')\n",
    "\n",
    "ax.set_title('SVC using GridSearchCV Confusion Matrix with labels\\n\\n');\n",
    "ax.set_xlabel('\\nPredicted Values')\n",
    "ax.set_ylabel('Actual Values ');\n",
    "\n",
    "## Ticket labels - List must be in alphabetical order\n",
    "ax.xaxis.set_ticklabels(['False','True'])\n",
    "ax.yaxis.set_ticklabels(['False','True'])"
   ]
  },
  {
   "cell_type": "markdown",
   "metadata": {},
   "source": [
    "## Random Forest Using GridSearchCV"
   ]
  },
  {
   "cell_type": "code",
   "execution_count": 270,
   "metadata": {
    "colab": {
     "base_uri": "https://localhost:8080/"
    },
    "id": "fuaFlSx3vPi6",
    "outputId": "d6980eb4-158f-4a3b-add5-f940f1405bce"
   },
   "outputs": [
    {
     "name": "stdout",
     "output_type": "stream",
     "text": [
      "Fitting 5 folds for each of 12 candidates, totalling 60 fits\n",
      "[CV 1/5] END .......criterion=gini, max_depth=3;, score=0.972 total time=   0.2s\n",
      "[CV 2/5] END .......criterion=gini, max_depth=3;, score=0.974 total time=   0.2s\n",
      "[CV 3/5] END .......criterion=gini, max_depth=3;, score=0.969 total time=   0.2s\n",
      "[CV 4/5] END .......criterion=gini, max_depth=3;, score=0.968 total time=   0.2s\n",
      "[CV 5/5] END .......criterion=gini, max_depth=3;, score=0.971 total time=   0.2s\n",
      "[CV 1/5] END .......criterion=gini, max_depth=4;, score=0.975 total time=   0.2s\n",
      "[CV 2/5] END .......criterion=gini, max_depth=4;, score=0.974 total time=   0.2s\n",
      "[CV 3/5] END .......criterion=gini, max_depth=4;, score=0.974 total time=   0.2s\n",
      "[CV 4/5] END .......criterion=gini, max_depth=4;, score=0.969 total time=   0.2s\n",
      "[CV 5/5] END .......criterion=gini, max_depth=4;, score=0.974 total time=   0.2s\n",
      "[CV 1/5] END .......criterion=gini, max_depth=5;, score=0.973 total time=   0.2s\n",
      "[CV 2/5] END .......criterion=gini, max_depth=5;, score=0.974 total time=   0.2s\n",
      "[CV 3/5] END .......criterion=gini, max_depth=5;, score=0.974 total time=   0.2s\n",
      "[CV 4/5] END .......criterion=gini, max_depth=5;, score=0.971 total time=   0.2s\n",
      "[CV 5/5] END .......criterion=gini, max_depth=5;, score=0.976 total time=   0.2s\n",
      "[CV 1/5] END .......criterion=gini, max_depth=6;, score=0.974 total time=   0.2s\n",
      "[CV 2/5] END .......criterion=gini, max_depth=6;, score=0.977 total time=   0.2s\n",
      "[CV 3/5] END .......criterion=gini, max_depth=6;, score=0.975 total time=   0.2s\n",
      "[CV 4/5] END .......criterion=gini, max_depth=6;, score=0.971 total time=   0.2s\n",
      "[CV 5/5] END .......criterion=gini, max_depth=6;, score=0.978 total time=   0.2s\n",
      "[CV 1/5] END .......criterion=gini, max_depth=7;, score=0.976 total time=   0.3s\n",
      "[CV 2/5] END .......criterion=gini, max_depth=7;, score=0.978 total time=   0.3s\n",
      "[CV 3/5] END .......criterion=gini, max_depth=7;, score=0.977 total time=   0.3s\n",
      "[CV 4/5] END .......criterion=gini, max_depth=7;, score=0.971 total time=   0.3s\n",
      "[CV 5/5] END .......criterion=gini, max_depth=7;, score=0.979 total time=   0.3s\n",
      "[CV 1/5] END .......criterion=gini, max_depth=8;, score=0.976 total time=   0.3s\n",
      "[CV 2/5] END .......criterion=gini, max_depth=8;, score=0.979 total time=   0.3s\n",
      "[CV 3/5] END .......criterion=gini, max_depth=8;, score=0.981 total time=   0.3s\n",
      "[CV 4/5] END .......criterion=gini, max_depth=8;, score=0.975 total time=   0.3s\n",
      "[CV 5/5] END .......criterion=gini, max_depth=8;, score=0.981 total time=   0.3s\n",
      "[CV 1/5] END ....criterion=entropy, max_depth=3;, score=0.969 total time=   0.2s\n",
      "[CV 2/5] END ....criterion=entropy, max_depth=3;, score=0.969 total time=   0.2s\n",
      "[CV 3/5] END ....criterion=entropy, max_depth=3;, score=0.966 total time=   0.2s\n",
      "[CV 4/5] END ....criterion=entropy, max_depth=3;, score=0.968 total time=   0.2s\n",
      "[CV 5/5] END ....criterion=entropy, max_depth=3;, score=0.969 total time=   0.2s\n",
      "[CV 1/5] END ....criterion=entropy, max_depth=4;, score=0.973 total time=   0.2s\n",
      "[CV 2/5] END ....criterion=entropy, max_depth=4;, score=0.970 total time=   0.2s\n",
      "[CV 3/5] END ....criterion=entropy, max_depth=4;, score=0.972 total time=   0.2s\n",
      "[CV 4/5] END ....criterion=entropy, max_depth=4;, score=0.971 total time=   0.2s\n",
      "[CV 5/5] END ....criterion=entropy, max_depth=4;, score=0.974 total time=   0.2s\n",
      "[CV 1/5] END ....criterion=entropy, max_depth=5;, score=0.971 total time=   0.2s\n",
      "[CV 2/5] END ....criterion=entropy, max_depth=5;, score=0.973 total time=   0.2s\n",
      "[CV 3/5] END ....criterion=entropy, max_depth=5;, score=0.974 total time=   0.2s\n",
      "[CV 4/5] END ....criterion=entropy, max_depth=5;, score=0.970 total time=   0.2s\n",
      "[CV 5/5] END ....criterion=entropy, max_depth=5;, score=0.976 total time=   0.2s\n",
      "[CV 1/5] END ....criterion=entropy, max_depth=6;, score=0.973 total time=   0.3s\n",
      "[CV 2/5] END ....criterion=entropy, max_depth=6;, score=0.975 total time=   0.3s\n",
      "[CV 3/5] END ....criterion=entropy, max_depth=6;, score=0.976 total time=   0.3s\n",
      "[CV 4/5] END ....criterion=entropy, max_depth=6;, score=0.971 total time=   0.3s\n",
      "[CV 5/5] END ....criterion=entropy, max_depth=6;, score=0.979 total time=   0.3s\n",
      "[CV 1/5] END ....criterion=entropy, max_depth=7;, score=0.976 total time=   0.3s\n",
      "[CV 2/5] END ....criterion=entropy, max_depth=7;, score=0.979 total time=   0.3s\n",
      "[CV 3/5] END ....criterion=entropy, max_depth=7;, score=0.981 total time=   0.3s\n",
      "[CV 4/5] END ....criterion=entropy, max_depth=7;, score=0.972 total time=   0.3s\n",
      "[CV 5/5] END ....criterion=entropy, max_depth=7;, score=0.981 total time=   0.3s\n",
      "[CV 1/5] END ....criterion=entropy, max_depth=8;, score=0.978 total time=   0.3s\n",
      "[CV 2/5] END ....criterion=entropy, max_depth=8;, score=0.981 total time=   0.3s\n",
      "[CV 3/5] END ....criterion=entropy, max_depth=8;, score=0.981 total time=   0.3s\n",
      "[CV 4/5] END ....criterion=entropy, max_depth=8;, score=0.975 total time=   0.3s\n",
      "[CV 5/5] END ....criterion=entropy, max_depth=8;, score=0.982 total time=   0.3s\n"
     ]
    },
    {
     "data": {
      "text/plain": [
       "GridSearchCV(estimator=RandomForestClassifier(),\n",
       "             param_grid={'criterion': ['gini', 'entropy'],\n",
       "                         'max_depth': [3, 4, 5, 6, 7, 8]},\n",
       "             verbose=3)"
      ]
     },
     "execution_count": 270,
     "metadata": {},
     "output_type": "execute_result"
    }
   ],
   "source": [
    "param_grid = {'max_depth':[3,4,5,6,7,8],'criterion':['gini', 'entropy']}\n",
    "rf_grid1 = GridSearchCV(RandomForestClassifier(), param_grid, refit = True, verbose = 3)\n",
    "rf_grid1.fit(x_train, y_train)"
   ]
  },
  {
   "cell_type": "code",
   "execution_count": 271,
   "metadata": {
    "colab": {
     "base_uri": "https://localhost:8080/"
    },
    "id": "33Fx7JHLvQFZ",
    "outputId": "d955c589-15a8-462b-f394-cac30fb10c4d"
   },
   "outputs": [
    {
     "name": "stdout",
     "output_type": "stream",
     "text": [
      "Best params from Random Forest Classifier [Target] :  {'criterion': 'entropy', 'max_depth': 8}\n",
      "Accuracy Score of Random Forest Classifier [Target] :  0.98\n",
      "Confusion Matrix of Random Forest Classifier [Target] :\n",
      " [[2900    5]\n",
      " [  55   40]]\n",
      "Classification Report of Random Forest Classifier[Target] : \n",
      "               precision    recall  f1-score   support\n",
      "\n",
      "           0       0.98      1.00      0.99      2905\n",
      "           1       0.89      0.42      0.57        95\n",
      "\n",
      "    accuracy                           0.98      3000\n",
      "   macro avg       0.94      0.71      0.78      3000\n",
      "weighted avg       0.98      0.98      0.98      3000\n",
      "\n",
      "Cohen Kappa: 0.563\n"
     ]
    }
   ],
   "source": [
    "print(\"Best params from Random Forest Classifier [Target] : \",rf_grid1.best_params_)\n",
    "y_pred_rf1=rf_grid1.predict(x_test)\n",
    "print(\"Accuracy Score of Random Forest Classifier [Target] : \",accuracy_score(y_test,y_pred_rf1))\n",
    "print(\"Confusion Matrix of Random Forest Classifier [Target] :\\n\",confusion_matrix(y_test,y_pred_rf1))\n",
    "print(\"Classification Report of Random Forest Classifier[Target] : \\n\",classification_report(y_test,y_pred_rf1))\n",
    "\n",
    "cohen3_rf1 = metrics.cohen_kappa_score(y_test,y_pred_rf1)\n",
    "print('Cohen Kappa: %.3f' % cohen3_rf1)"
   ]
  },
  {
   "cell_type": "code",
   "execution_count": 272,
   "metadata": {},
   "outputs": [
    {
     "data": {
      "text/plain": [
       "[Text(0, 0.5, 'False'), Text(0, 1.5, 'True')]"
      ]
     },
     "execution_count": 272,
     "metadata": {},
     "output_type": "execute_result"
    },
    {
     "data": {
      "image/png": "[encoded data removed]",
      "text/plain": [
       "<Figure size 432x288 with 2 Axes>"
      ]
     },
     "metadata": {
      "needs_background": "light"
     },
     "output_type": "display_data"
    }
   ],
   "source": [
    "ax = sns.heatmap(confusion_matrix(y_test,y_pred_rf1), annot=True, cmap='Pastel2')\n",
    "\n",
    "ax.set_title('Random Forest using GridSearchCV Confusion Matrix with labels\\n\\n');\n",
    "ax.set_xlabel('\\nPredicted Values')\n",
    "ax.set_ylabel('Actual Values ');\n",
    "\n",
    "## Ticket labels - List must be in alphabetical order\n",
    "ax.xaxis.set_ticklabels(['False','True'])\n",
    "ax.yaxis.set_ticklabels(['False','True'])"
   ]
  },
  {
   "cell_type": "markdown",
   "metadata": {},
   "source": [
    "## K- Nearest Neighbor Using GridSearchCV"
   ]
  },
  {
   "cell_type": "code",
   "execution_count": 273,
   "metadata": {
    "colab": {
     "base_uri": "https://localhost:8080/"
    },
    "id": "VNcolivA1pCm",
    "outputId": "f5c5869e-fe47-4aaa-aaec-c2dafc77a6a1"
   },
   "outputs": [
    {
     "name": "stdout",
     "output_type": "stream",
     "text": [
      "Fitting 5 folds for each of 6 candidates, totalling 30 fits\n",
      "[CV 1/5] END .....................n_neighbors=3;, score=0.971 total time=   0.0s\n",
      "[CV 2/5] END .....................n_neighbors=3;, score=0.971 total time=   0.0s\n",
      "[CV 3/5] END .....................n_neighbors=3;, score=0.975 total time=   0.0s\n",
      "[CV 4/5] END .....................n_neighbors=3;, score=0.965 total time=   0.0s\n",
      "[CV 5/5] END .....................n_neighbors=3;, score=0.973 total time=   0.0s\n",
      "[CV 1/5] END .....................n_neighbors=4;, score=0.971 total time=   0.0s\n",
      "[CV 2/5] END .....................n_neighbors=4;, score=0.967 total time=   0.0s\n",
      "[CV 3/5] END .....................n_neighbors=4;, score=0.971 total time=   0.0s\n",
      "[CV 4/5] END .....................n_neighbors=4;, score=0.967 total time=   0.0s\n",
      "[CV 5/5] END .....................n_neighbors=4;, score=0.969 total time=   0.0s\n",
      "[CV 1/5] END .....................n_neighbors=5;, score=0.973 total time=   0.0s\n",
      "[CV 2/5] END .....................n_neighbors=5;, score=0.967 total time=   0.0s\n",
      "[CV 3/5] END .....................n_neighbors=5;, score=0.971 total time=   0.0s\n",
      "[CV 4/5] END .....................n_neighbors=5;, score=0.967 total time=   0.0s\n",
      "[CV 5/5] END .....................n_neighbors=5;, score=0.969 total time=   0.0s\n",
      "[CV 1/5] END .....................n_neighbors=6;, score=0.969 total time=   0.0s\n",
      "[CV 2/5] END .....................n_neighbors=6;, score=0.966 total time=   0.0s\n",
      "[CV 3/5] END .....................n_neighbors=6;, score=0.968 total time=   0.0s\n",
      "[CV 4/5] END .....................n_neighbors=6;, score=0.968 total time=   0.0s\n",
      "[CV 5/5] END .....................n_neighbors=6;, score=0.967 total time=   0.0s\n",
      "[CV 1/5] END .....................n_neighbors=7;, score=0.969 total time=   0.0s\n",
      "[CV 2/5] END .....................n_neighbors=7;, score=0.966 total time=   0.0s\n",
      "[CV 3/5] END .....................n_neighbors=7;, score=0.970 total time=   0.0s\n",
      "[CV 4/5] END .....................n_neighbors=7;, score=0.970 total time=   0.0s\n",
      "[CV 5/5] END .....................n_neighbors=7;, score=0.969 total time=   0.0s\n",
      "[CV 1/5] END .....................n_neighbors=8;, score=0.970 total time=   0.0s\n",
      "[CV 2/5] END .....................n_neighbors=8;, score=0.966 total time=   0.0s\n",
      "[CV 3/5] END .....................n_neighbors=8;, score=0.968 total time=   0.0s\n",
      "[CV 4/5] END .....................n_neighbors=8;, score=0.969 total time=   0.0s\n",
      "[CV 5/5] END .....................n_neighbors=8;, score=0.969 total time=   0.0s\n"
     ]
    },
    {
     "data": {
      "text/plain": [
       "GridSearchCV(estimator=KNeighborsClassifier(),\n",
       "             param_grid={'n_neighbors': [3, 4, 5, 6, 7, 8]}, verbose=3)"
      ]
     },
     "execution_count": 273,
     "metadata": {},
     "output_type": "execute_result"
    }
   ],
   "source": [
    "param_grid = {'n_neighbors':[3,4,5,6,7,8]}\n",
    "knn_grid1 = GridSearchCV(KNeighborsClassifier(), param_grid, refit = True, verbose = 3)\n",
    "knn_grid1.fit(x_train,y_train)"
   ]
  },
  {
   "cell_type": "code",
   "execution_count": 274,
   "metadata": {
    "colab": {
     "base_uri": "https://localhost:8080/"
    },
    "id": "_PguyCq5164R",
    "outputId": "e48d4cc6-e6b3-41f7-9b8d-a98472b5bbd3"
   },
   "outputs": [
    {
     "name": "stdout",
     "output_type": "stream",
     "text": [
      "Best params from K- Nearest Neighbor [Target] :  {'n_neighbors': 3}\n",
      "Accuracy Score of K- Nearest Neighbor [Target] :  0.976\n",
      "Confusion Matrix of K- Nearest Neighbor [Target] :\n",
      " [[2895   10]\n",
      " [  62   33]]\n",
      "Classification Report of K- Nearest NeighborTarget] : \n",
      "               precision    recall  f1-score   support\n",
      "\n",
      "           0       0.98      1.00      0.99      2905\n",
      "           1       0.77      0.35      0.48        95\n",
      "\n",
      "    accuracy                           0.98      3000\n",
      "   macro avg       0.87      0.67      0.73      3000\n",
      "weighted avg       0.97      0.98      0.97      3000\n",
      "\n",
      "Cohen Kappa: 0.468\n"
     ]
    }
   ],
   "source": [
    "print(\"Best params from K- Nearest Neighbor [Target] : \",knn_grid1.best_params_)\n",
    "y_pred_knn1=knn_grid1.predict(x_test)\n",
    "print(\"Accuracy Score of K- Nearest Neighbor [Target] : \",accuracy_score(y_test,y_pred_knn1))\n",
    "print(\"Confusion Matrix of K- Nearest Neighbor [Target] :\\n\",confusion_matrix(y_test,y_pred_knn1))\n",
    "print(\"Classification Report of K- Nearest NeighborTarget] : \\n\",classification_report(y_test,y_pred_knn1))\n",
    "\n",
    "cohen3_knn1 = metrics.cohen_kappa_score(y_test,y_pred_knn1)\n",
    "print('Cohen Kappa: %.3f' % cohen3_knn1)"
   ]
  },
  {
   "cell_type": "code",
   "execution_count": 275,
   "metadata": {},
   "outputs": [
    {
     "data": {
      "text/plain": [
       "[Text(0, 0.5, 'False'), Text(0, 1.5, 'True')]"
      ]
     },
     "execution_count": 275,
     "metadata": {},
     "output_type": "execute_result"
    },
    {
     "data": {
      "image/png": "[encoded data removed]",
      "text/plain": [
       "<Figure size 432x288 with 2 Axes>"
      ]
     },
     "metadata": {
      "needs_background": "light"
     },
     "output_type": "display_data"
    }
   ],
   "source": [
    "ax = sns.heatmap(confusion_matrix(y_test,y_pred_knn1), annot=True, cmap='Pastel2')\n",
    "\n",
    "\n",
    "ax.set_title('K-nearest Neighbor using GridSearchCV Confusion Matrix with labels\\n\\n');\n",
    "ax.set_xlabel('\\nPredicted Values')\n",
    "ax.set_ylabel('Actual Values ');\n",
    "\n",
    "## Ticket labels - List must be in alphabetical order\n",
    "ax.xaxis.set_ticklabels(['False','True'])\n",
    "ax.yaxis.set_ticklabels(['False','True']) "
   ]
  },
  {
   "cell_type": "markdown",
   "metadata": {},
   "source": [
    "# Problem 2 by considering Failure Type as dependent variable"
   ]
  },
  {
   "cell_type": "code",
   "execution_count": 276,
   "metadata": {
    "id": "VUvJNX1fFMO2"
   },
   "outputs": [],
   "source": [
    "x1=data[['Type','Air temperature [K]','Process temperature [K]','Rotational speed [rpm]','Torque [Nm]','Tool wear [min]','Target']]\n",
    "y1=data['Failure Type']"
   ]
  },
  {
   "cell_type": "code",
   "execution_count": 277,
   "metadata": {
    "id": "_snK_TvEFbZW"
   },
   "outputs": [],
   "source": [
    "x1_train,x1_test,y1_train,y1_test=train_test_split(x1,y1,test_size=0.3,random_state=42)"
   ]
  },
  {
   "cell_type": "markdown",
   "metadata": {},
   "source": [
    "## Logistic Regression"
   ]
  },
  {
   "cell_type": "code",
   "execution_count": 278,
   "metadata": {},
   "outputs": [],
   "source": [
    "lgr2=LogisticRegression()\n",
    "lgr2.fit(x1_train,y1_train)\n",
    "y1_pred_lgr2=lgr2.predict(x1_test)"
   ]
  },
  {
   "cell_type": "code",
   "execution_count": 279,
   "metadata": {},
   "outputs": [
    {
     "name": "stdout",
     "output_type": "stream",
     "text": [
      "Accuracy Score of Logistic Regression [Failure Type] :  0.9876666666666667\n",
      "Confusion Matrix of Logistic Regression [Failure Type] :\n",
      " [[  23    0    0    0    0    0]\n",
      " [   2 2900    0    1    0    0]\n",
      " [   3    0   19    0    0    0]\n",
      " [   7    0    8   16    0    0]\n",
      " [   0    7    0    0    0    0]\n",
      " [   2    0    7    0    0    5]]\n",
      "Classification Report of Logistic Regression [Failure Type] : \n",
      "               precision    recall  f1-score   support\n",
      "\n",
      "           0       0.62      1.00      0.77        23\n",
      "           1       1.00      1.00      1.00      2903\n",
      "           2       0.56      0.86      0.68        22\n",
      "           3       0.94      0.52      0.67        31\n",
      "           4       0.00      0.00      0.00         7\n",
      "           5       1.00      0.36      0.53        14\n",
      "\n",
      "    accuracy                           0.99      3000\n",
      "   macro avg       0.69      0.62      0.61      3000\n",
      "weighted avg       0.99      0.99      0.99      3000\n",
      "\n",
      "Cohen Kappa: 0.801\n"
     ]
    },
    {
     "name": "stderr",
     "output_type": "stream",
     "text": [
      "/Users/saipranitha/opt/anaconda3/lib/python3.9/site-packages/sklearn/metrics/_classification.py:1318: UndefinedMetricWarning: Precision and F-score are ill-defined and being set to 0.0 in labels with no predicted samples. Use `zero_division` parameter to control this behavior.\n",
      "  _warn_prf(average, modifier, msg_start, len(result))\n",
      "/Users/saipranitha/opt/anaconda3/lib/python3.9/site-packages/sklearn/metrics/_classification.py:1318: UndefinedMetricWarning: Precision and F-score are ill-defined and being set to 0.0 in labels with no predicted samples. Use `zero_division` parameter to control this behavior.\n",
      "  _warn_prf(average, modifier, msg_start, len(result))\n",
      "/Users/saipranitha/opt/anaconda3/lib/python3.9/site-packages/sklearn/metrics/_classification.py:1318: UndefinedMetricWarning: Precision and F-score are ill-defined and being set to 0.0 in labels with no predicted samples. Use `zero_division` parameter to control this behavior.\n",
      "  _warn_prf(average, modifier, msg_start, len(result))\n"
     ]
    }
   ],
   "source": [
    "print(\"Accuracy Score of Logistic Regression [Failure Type] : \",accuracy_score(y1_test,y1_pred_lgr2))\n",
    "print(\"Confusion Matrix of Logistic Regression [Failure Type] :\\n\",confusion_matrix(y1_test,y1_pred_lgr2))\n",
    "print(\"Classification Report of Logistic Regression [Failure Type] : \\n\",classification_report(y1_test,y1_pred_lgr2))\n",
    "\n",
    "cohen3_lgr2 = metrics.cohen_kappa_score(y1_test,y1_pred_lgr2)\n",
    "print('Cohen Kappa: %.3f' % cohen3_lgr2)"
   ]
  },
  {
   "cell_type": "code",
   "execution_count": 291,
   "metadata": {},
   "outputs": [
    {
     "data": {
      "image/png": "[encoded data removed]",
      "text/plain": [
       "<Figure size 432x288 with 2 Axes>"
      ]
     },
     "metadata": {
      "needs_background": "light"
     },
     "output_type": "display_data"
    }
   ],
   "source": [
    "ax = sns.heatmap(confusion_matrix(y1_test,y1_pred_lgr2), annot=True, cmap='Pastel2')\n",
    "\n",
    "\n",
    "ax.set_title('Linear regression using GridSearchCV Confusion Matrix with labels\\n\\n');\n",
    "ax.set_xlabel('\\nPredicted Values')\n",
    "ax.set_ylabel('Actual Values ');\n",
    "\n",
    "## Ticket labels - List must be in alphabetical order\n",
    "#ax.xaxis.set_ticklabels(['False','True'])\n",
    "#ax.yaxis.set_ticklabels(['False','True']) "
   ]
  },
  {
   "cell_type": "markdown",
   "metadata": {},
   "source": [
    "## SVC Using GridSearchCV"
   ]
  },
  {
   "cell_type": "code",
   "execution_count": 281,
   "metadata": {
    "colab": {
     "base_uri": "https://localhost:8080/"
    },
    "id": "U1caf4AtGehz",
    "outputId": "10bc0407-447d-4ed5-c12c-0ba53ddd14a6"
   },
   "outputs": [
    {
     "name": "stdout",
     "output_type": "stream",
     "text": [
      "Fitting 5 folds for each of 18 candidates, totalling 90 fits\n",
      "[CV 1/5] END .......C=0.1, degree=1, kernel=rbf;, score=0.987 total time=   0.2s\n",
      "[CV 2/5] END .......C=0.1, degree=1, kernel=rbf;, score=0.985 total time=   0.2s\n",
      "[CV 3/5] END .......C=0.1, degree=1, kernel=rbf;, score=0.981 total time=   0.2s\n",
      "[CV 4/5] END .......C=0.1, degree=1, kernel=rbf;, score=0.984 total time=   0.2s\n",
      "[CV 5/5] END .......C=0.1, degree=1, kernel=rbf;, score=0.981 total time=   0.2s\n",
      "[CV 1/5] END ....C=0.1, degree=1, kernel=linear;, score=0.986 total time=   0.1s\n",
      "[CV 2/5] END ....C=0.1, degree=1, kernel=linear;, score=0.984 total time=   0.1s\n",
      "[CV 3/5] END ....C=0.1, degree=1, kernel=linear;, score=0.982 total time=   0.1s\n",
      "[CV 4/5] END ....C=0.1, degree=1, kernel=linear;, score=0.983 total time=   0.1s\n",
      "[CV 5/5] END ....C=0.1, degree=1, kernel=linear;, score=0.981 total time=   0.1s\n",
      "[CV 1/5] END .......C=0.1, degree=2, kernel=rbf;, score=0.987 total time=   0.2s\n",
      "[CV 2/5] END .......C=0.1, degree=2, kernel=rbf;, score=0.985 total time=   0.2s\n",
      "[CV 3/5] END .......C=0.1, degree=2, kernel=rbf;, score=0.981 total time=   0.2s\n",
      "[CV 4/5] END .......C=0.1, degree=2, kernel=rbf;, score=0.984 total time=   0.2s\n",
      "[CV 5/5] END .......C=0.1, degree=2, kernel=rbf;, score=0.981 total time=   0.2s\n",
      "[CV 1/5] END ....C=0.1, degree=2, kernel=linear;, score=0.986 total time=   0.1s\n",
      "[CV 2/5] END ....C=0.1, degree=2, kernel=linear;, score=0.984 total time=   0.1s\n",
      "[CV 3/5] END ....C=0.1, degree=2, kernel=linear;, score=0.982 total time=   0.1s\n",
      "[CV 4/5] END ....C=0.1, degree=2, kernel=linear;, score=0.983 total time=   0.1s\n",
      "[CV 5/5] END ....C=0.1, degree=2, kernel=linear;, score=0.981 total time=   0.1s\n",
      "[CV 1/5] END .......C=0.1, degree=3, kernel=rbf;, score=0.987 total time=   0.2s\n",
      "[CV 2/5] END .......C=0.1, degree=3, kernel=rbf;, score=0.985 total time=   0.2s\n",
      "[CV 3/5] END .......C=0.1, degree=3, kernel=rbf;, score=0.981 total time=   0.2s\n",
      "[CV 4/5] END .......C=0.1, degree=3, kernel=rbf;, score=0.984 total time=   0.2s\n",
      "[CV 5/5] END .......C=0.1, degree=3, kernel=rbf;, score=0.981 total time=   0.2s\n",
      "[CV 1/5] END ....C=0.1, degree=3, kernel=linear;, score=0.986 total time=   0.1s\n",
      "[CV 2/5] END ....C=0.1, degree=3, kernel=linear;, score=0.984 total time=   0.1s\n",
      "[CV 3/5] END ....C=0.1, degree=3, kernel=linear;, score=0.982 total time=   0.1s\n",
      "[CV 4/5] END ....C=0.1, degree=3, kernel=linear;, score=0.983 total time=   0.1s\n",
      "[CV 5/5] END ....C=0.1, degree=3, kernel=linear;, score=0.981 total time=   0.1s\n",
      "[CV 1/5] END .........C=1, degree=1, kernel=rbf;, score=0.992 total time=   0.1s\n",
      "[CV 2/5] END .........C=1, degree=1, kernel=rbf;, score=0.990 total time=   0.1s\n",
      "[CV 3/5] END .........C=1, degree=1, kernel=rbf;, score=0.991 total time=   0.1s\n",
      "[CV 4/5] END .........C=1, degree=1, kernel=rbf;, score=0.994 total time=   0.1s\n",
      "[CV 5/5] END .........C=1, degree=1, kernel=rbf;, score=0.986 total time=   0.1s\n",
      "[CV 1/5] END ......C=1, degree=1, kernel=linear;, score=0.992 total time=   0.0s\n",
      "[CV 2/5] END ......C=1, degree=1, kernel=linear;, score=0.988 total time=   0.0s\n",
      "[CV 3/5] END ......C=1, degree=1, kernel=linear;, score=0.992 total time=   0.1s\n",
      "[CV 4/5] END ......C=1, degree=1, kernel=linear;, score=0.994 total time=   0.0s\n",
      "[CV 5/5] END ......C=1, degree=1, kernel=linear;, score=0.989 total time=   0.0s\n",
      "[CV 1/5] END .........C=1, degree=2, kernel=rbf;, score=0.992 total time=   0.1s\n",
      "[CV 2/5] END .........C=1, degree=2, kernel=rbf;, score=0.990 total time=   0.1s\n",
      "[CV 3/5] END .........C=1, degree=2, kernel=rbf;, score=0.991 total time=   0.1s\n",
      "[CV 4/5] END .........C=1, degree=2, kernel=rbf;, score=0.994 total time=   0.1s\n",
      "[CV 5/5] END .........C=1, degree=2, kernel=rbf;, score=0.986 total time=   0.1s\n",
      "[CV 1/5] END ......C=1, degree=2, kernel=linear;, score=0.992 total time=   0.0s\n",
      "[CV 2/5] END ......C=1, degree=2, kernel=linear;, score=0.988 total time=   0.0s\n",
      "[CV 3/5] END ......C=1, degree=2, kernel=linear;, score=0.992 total time=   0.1s\n",
      "[CV 4/5] END ......C=1, degree=2, kernel=linear;, score=0.994 total time=   0.0s\n",
      "[CV 5/5] END ......C=1, degree=2, kernel=linear;, score=0.989 total time=   0.0s\n",
      "[CV 1/5] END .........C=1, degree=3, kernel=rbf;, score=0.992 total time=   0.1s\n",
      "[CV 2/5] END .........C=1, degree=3, kernel=rbf;, score=0.990 total time=   0.1s\n",
      "[CV 3/5] END .........C=1, degree=3, kernel=rbf;, score=0.991 total time=   0.1s\n",
      "[CV 4/5] END .........C=1, degree=3, kernel=rbf;, score=0.994 total time=   0.1s\n",
      "[CV 5/5] END .........C=1, degree=3, kernel=rbf;, score=0.986 total time=   0.1s\n",
      "[CV 1/5] END ......C=1, degree=3, kernel=linear;, score=0.992 total time=   0.0s\n",
      "[CV 2/5] END ......C=1, degree=3, kernel=linear;, score=0.988 total time=   0.0s\n",
      "[CV 3/5] END ......C=1, degree=3, kernel=linear;, score=0.992 total time=   0.1s\n",
      "[CV 4/5] END ......C=1, degree=3, kernel=linear;, score=0.994 total time=   0.0s\n",
      "[CV 5/5] END ......C=1, degree=3, kernel=linear;, score=0.989 total time=   0.0s\n",
      "[CV 1/5] END ........C=10, degree=1, kernel=rbf;, score=0.994 total time=   0.1s\n",
      "[CV 2/5] END ........C=10, degree=1, kernel=rbf;, score=0.994 total time=   0.1s\n",
      "[CV 3/5] END ........C=10, degree=1, kernel=rbf;, score=0.994 total time=   0.1s\n",
      "[CV 4/5] END ........C=10, degree=1, kernel=rbf;, score=0.996 total time=   0.1s\n",
      "[CV 5/5] END ........C=10, degree=1, kernel=rbf;, score=0.991 total time=   0.1s\n",
      "[CV 1/5] END .....C=10, degree=1, kernel=linear;, score=0.996 total time=   0.0s\n",
      "[CV 2/5] END .....C=10, degree=1, kernel=linear;, score=0.994 total time=   0.0s\n",
      "[CV 3/5] END .....C=10, degree=1, kernel=linear;, score=0.994 total time=   0.0s\n",
      "[CV 4/5] END .....C=10, degree=1, kernel=linear;, score=0.996 total time=   0.0s\n",
      "[CV 5/5] END .....C=10, degree=1, kernel=linear;, score=0.990 total time=   0.0s\n",
      "[CV 1/5] END ........C=10, degree=2, kernel=rbf;, score=0.994 total time=   0.1s\n",
      "[CV 2/5] END ........C=10, degree=2, kernel=rbf;, score=0.994 total time=   0.1s\n",
      "[CV 3/5] END ........C=10, degree=2, kernel=rbf;, score=0.994 total time=   0.1s\n",
      "[CV 4/5] END ........C=10, degree=2, kernel=rbf;, score=0.996 total time=   0.1s\n",
      "[CV 5/5] END ........C=10, degree=2, kernel=rbf;, score=0.991 total time=   0.1s\n",
      "[CV 1/5] END .....C=10, degree=2, kernel=linear;, score=0.996 total time=   0.0s\n",
      "[CV 2/5] END .....C=10, degree=2, kernel=linear;, score=0.994 total time=   0.0s\n",
      "[CV 3/5] END .....C=10, degree=2, kernel=linear;, score=0.994 total time=   0.0s\n",
      "[CV 4/5] END .....C=10, degree=2, kernel=linear;, score=0.996 total time=   0.0s\n",
      "[CV 5/5] END .....C=10, degree=2, kernel=linear;, score=0.990 total time=   0.0s\n",
      "[CV 1/5] END ........C=10, degree=3, kernel=rbf;, score=0.994 total time=   0.1s\n",
      "[CV 2/5] END ........C=10, degree=3, kernel=rbf;, score=0.994 total time=   0.1s\n",
      "[CV 3/5] END ........C=10, degree=3, kernel=rbf;, score=0.994 total time=   0.1s\n",
      "[CV 4/5] END ........C=10, degree=3, kernel=rbf;, score=0.996 total time=   0.1s\n",
      "[CV 5/5] END ........C=10, degree=3, kernel=rbf;, score=0.991 total time=   0.1s\n",
      "[CV 1/5] END .....C=10, degree=3, kernel=linear;, score=0.996 total time=   0.0s\n",
      "[CV 2/5] END .....C=10, degree=3, kernel=linear;, score=0.994 total time=   0.0s\n",
      "[CV 3/5] END .....C=10, degree=3, kernel=linear;, score=0.994 total time=   0.0s\n",
      "[CV 4/5] END .....C=10, degree=3, kernel=linear;, score=0.996 total time=   0.0s\n",
      "[CV 5/5] END .....C=10, degree=3, kernel=linear;, score=0.990 total time=   0.0s\n"
     ]
    },
    {
     "data": {
      "text/plain": [
       "GridSearchCV(estimator=SVC(),\n",
       "             param_grid={'C': [0.1, 1, 10], 'degree': [1, 2, 3],\n",
       "                         'kernel': ['rbf', 'linear']},\n",
       "             verbose=3)"
      ]
     },
     "execution_count": 281,
     "metadata": {},
     "output_type": "execute_result"
    }
   ],
   "source": [
    "param_grid = param_grid = {'C': [0.1, 1, 10],\n",
    "              'degree': [1, 2, 3],\n",
    "              'kernel': ['rbf','linear']}\n",
    "SVC_grid2 = GridSearchCV(SVC(), param_grid, refit = True, verbose = 3)\n",
    "SVC_grid2.fit(x1_train, y1_train)"
   ]
  },
  {
   "cell_type": "code",
   "execution_count": 282,
   "metadata": {
    "colab": {
     "base_uri": "https://localhost:8080/"
    },
    "id": "MjYyUYuDIIHL",
    "outputId": "7d3a6f93-cb23-453c-aafc-6b288d8bc86a"
   },
   "outputs": [
    {
     "name": "stdout",
     "output_type": "stream",
     "text": [
      "Best params from Support Vector Classifier [Failure Type] :  {'C': 10, 'degree': 1, 'kernel': 'linear'}\n",
      "Accuracy Score of Support Vector Classifier [Failure Type] :  0.9933333333333333\n",
      "Confusion Matrix of Support Vector Classifier [Failure Type] :\n",
      " [[  23    0    0    0    0    0]\n",
      " [   1 2901    0    1    0    0]\n",
      " [   1    0   21    0    0    0]\n",
      " [   1    0    5   25    0    0]\n",
      " [   0    7    0    0    0    0]\n",
      " [   1    0    3    0    0   10]]\n",
      "Classification Report of SVC using GridSearchCV [Failure Type] : \n",
      "               precision    recall  f1-score   support\n",
      "\n",
      "           0       0.85      1.00      0.92        23\n",
      "           1       1.00      1.00      1.00      2903\n",
      "           2       0.72      0.95      0.82        22\n",
      "           3       0.96      0.81      0.88        31\n",
      "           4       0.00      0.00      0.00         7\n",
      "           5       1.00      0.71      0.83        14\n",
      "\n",
      "    accuracy                           0.99      3000\n",
      "   macro avg       0.76      0.75      0.74      3000\n",
      "weighted avg       0.99      0.99      0.99      3000\n",
      "\n",
      "Cohen Kappa: 0.892\n"
     ]
    },
    {
     "name": "stderr",
     "output_type": "stream",
     "text": [
      "/Users/saipranitha/opt/anaconda3/lib/python3.9/site-packages/sklearn/metrics/_classification.py:1318: UndefinedMetricWarning: Precision and F-score are ill-defined and being set to 0.0 in labels with no predicted samples. Use `zero_division` parameter to control this behavior.\n",
      "  _warn_prf(average, modifier, msg_start, len(result))\n",
      "/Users/saipranitha/opt/anaconda3/lib/python3.9/site-packages/sklearn/metrics/_classification.py:1318: UndefinedMetricWarning: Precision and F-score are ill-defined and being set to 0.0 in labels with no predicted samples. Use `zero_division` parameter to control this behavior.\n",
      "  _warn_prf(average, modifier, msg_start, len(result))\n",
      "/Users/saipranitha/opt/anaconda3/lib/python3.9/site-packages/sklearn/metrics/_classification.py:1318: UndefinedMetricWarning: Precision and F-score are ill-defined and being set to 0.0 in labels with no predicted samples. Use `zero_division` parameter to control this behavior.\n",
      "  _warn_prf(average, modifier, msg_start, len(result))\n"
     ]
    }
   ],
   "source": [
    "print(\"Best params from Support Vector Classifier [Failure Type] : \",SVC_grid2.best_params_)\n",
    "y1_pred_SVC2=SVC_grid2.predict(x1_test)\n",
    "print(\"Accuracy Score of Support Vector Classifier [Failure Type] : \",accuracy_score(y1_test,y1_pred_SVC2))\n",
    "print(\"Confusion Matrix of Support Vector Classifier [Failure Type] :\\n\",confusion_matrix(y1_test,y1_pred_SVC2))\n",
    "print(\"Classification Report of SVC using GridSearchCV [Failure Type] : \\n\",classification_report(y1_test,y1_pred_SVC2))\n",
    "\n",
    "cohen3_SVC2 = metrics.cohen_kappa_score(y1_test,y1_pred_SVC2)\n",
    "print('Cohen Kappa: %.3f' % cohen3_SVC2)"
   ]
  },
  {
   "cell_type": "code",
   "execution_count": 292,
   "metadata": {},
   "outputs": [
    {
     "data": {
      "image/png": "[encoded data removed]",
      "text/plain": [
       "<Figure size 432x288 with 2 Axes>"
      ]
     },
     "metadata": {
      "needs_background": "light"
     },
     "output_type": "display_data"
    }
   ],
   "source": [
    "ax = sns.heatmap(confusion_matrix(y1_test,y1_pred_SVC2), annot=True, cmap='Pastel2')\n",
    "\n",
    "\n",
    "ax.set_title('SVC using GridSearchCV Confusion Matrix with labels\\n\\n');\n",
    "ax.set_xlabel('\\nPredicted Values')\n",
    "ax.set_ylabel('Actual Values ');"
   ]
  },
  {
   "cell_type": "markdown",
   "metadata": {},
   "source": [
    "## Random Forest Using GridSearchCV"
   ]
  },
  {
   "cell_type": "code",
   "execution_count": 284,
   "metadata": {
    "colab": {
     "base_uri": "https://localhost:8080/"
    },
    "id": "PMXE47zgvp84",
    "outputId": "f1bb889b-2d8d-44ce-ecc2-d9b8d6b788b9"
   },
   "outputs": [
    {
     "name": "stdout",
     "output_type": "stream",
     "text": [
      "Fitting 5 folds for each of 12 candidates, totalling 60 fits\n",
      "[CV 1/5] END .......criterion=gini, max_depth=3;, score=0.987 total time=   0.2s\n",
      "[CV 2/5] END .......criterion=gini, max_depth=3;, score=0.988 total time=   0.2s\n",
      "[CV 3/5] END .......criterion=gini, max_depth=3;, score=0.984 total time=   0.2s\n",
      "[CV 4/5] END .......criterion=gini, max_depth=3;, score=0.985 total time=   0.2s\n",
      "[CV 5/5] END .......criterion=gini, max_depth=3;, score=0.984 total time=   0.2s\n",
      "[CV 1/5] END .......criterion=gini, max_depth=4;, score=0.994 total time=   0.2s\n",
      "[CV 2/5] END .......criterion=gini, max_depth=4;, score=0.994 total time=   0.2s\n",
      "[CV 3/5] END .......criterion=gini, max_depth=4;, score=0.991 total time=   0.2s\n",
      "[CV 4/5] END .......criterion=gini, max_depth=4;, score=0.991 total time=   0.2s\n",
      "[CV 5/5] END .......criterion=gini, max_depth=4;, score=0.991 total time=   0.2s\n",
      "[CV 1/5] END .......criterion=gini, max_depth=5;, score=0.994 total time=   0.2s\n",
      "[CV 2/5] END .......criterion=gini, max_depth=5;, score=0.994 total time=   0.2s\n",
      "[CV 3/5] END .......criterion=gini, max_depth=5;, score=0.993 total time=   0.2s\n",
      "[CV 4/5] END .......criterion=gini, max_depth=5;, score=0.996 total time=   0.2s\n",
      "[CV 5/5] END .......criterion=gini, max_depth=5;, score=0.990 total time=   0.2s\n",
      "[CV 1/5] END .......criterion=gini, max_depth=6;, score=0.994 total time=   0.2s\n",
      "[CV 2/5] END .......criterion=gini, max_depth=6;, score=0.995 total time=   0.2s\n",
      "[CV 3/5] END .......criterion=gini, max_depth=6;, score=0.993 total time=   0.2s\n",
      "[CV 4/5] END .......criterion=gini, max_depth=6;, score=0.996 total time=   0.2s\n",
      "[CV 5/5] END .......criterion=gini, max_depth=6;, score=0.990 total time=   0.2s\n",
      "[CV 1/5] END .......criterion=gini, max_depth=7;, score=0.994 total time=   0.2s\n",
      "[CV 2/5] END .......criterion=gini, max_depth=7;, score=0.995 total time=   0.2s\n",
      "[CV 3/5] END .......criterion=gini, max_depth=7;, score=0.993 total time=   0.2s\n",
      "[CV 4/5] END .......criterion=gini, max_depth=7;, score=0.997 total time=   0.2s\n",
      "[CV 5/5] END .......criterion=gini, max_depth=7;, score=0.991 total time=   0.2s\n",
      "[CV 1/5] END .......criterion=gini, max_depth=8;, score=0.995 total time=   0.2s\n",
      "[CV 2/5] END .......criterion=gini, max_depth=8;, score=0.996 total time=   0.2s\n",
      "[CV 3/5] END .......criterion=gini, max_depth=8;, score=0.993 total time=   0.2s\n",
      "[CV 4/5] END .......criterion=gini, max_depth=8;, score=0.997 total time=   0.2s\n",
      "[CV 5/5] END .......criterion=gini, max_depth=8;, score=0.991 total time=   0.2s\n",
      "[CV 1/5] END ....criterion=entropy, max_depth=3;, score=0.988 total time=   0.2s\n",
      "[CV 2/5] END ....criterion=entropy, max_depth=3;, score=0.986 total time=   0.2s\n",
      "[CV 3/5] END ....criterion=entropy, max_depth=3;, score=0.989 total time=   0.2s\n",
      "[CV 4/5] END ....criterion=entropy, max_depth=3;, score=0.990 total time=   0.2s\n",
      "[CV 5/5] END ....criterion=entropy, max_depth=3;, score=0.987 total time=   0.2s\n",
      "[CV 1/5] END ....criterion=entropy, max_depth=4;, score=0.994 total time=   0.2s\n",
      "[CV 2/5] END ....criterion=entropy, max_depth=4;, score=0.994 total time=   0.2s\n",
      "[CV 3/5] END ....criterion=entropy, max_depth=4;, score=0.994 total time=   0.2s\n",
      "[CV 4/5] END ....criterion=entropy, max_depth=4;, score=0.996 total time=   0.2s\n",
      "[CV 5/5] END ....criterion=entropy, max_depth=4;, score=0.990 total time=   0.2s\n",
      "[CV 1/5] END ....criterion=entropy, max_depth=5;, score=0.994 total time=   0.2s\n",
      "[CV 2/5] END ....criterion=entropy, max_depth=5;, score=0.994 total time=   0.2s\n",
      "[CV 3/5] END ....criterion=entropy, max_depth=5;, score=0.995 total time=   0.2s\n",
      "[CV 4/5] END ....criterion=entropy, max_depth=5;, score=0.996 total time=   0.2s\n",
      "[CV 5/5] END ....criterion=entropy, max_depth=5;, score=0.990 total time=   0.2s\n",
      "[CV 1/5] END ....criterion=entropy, max_depth=6;, score=0.995 total time=   0.2s\n",
      "[CV 2/5] END ....criterion=entropy, max_depth=6;, score=0.996 total time=   0.2s\n",
      "[CV 3/5] END ....criterion=entropy, max_depth=6;, score=0.994 total time=   0.2s\n",
      "[CV 4/5] END ....criterion=entropy, max_depth=6;, score=0.997 total time=   0.2s\n",
      "[CV 5/5] END ....criterion=entropy, max_depth=6;, score=0.991 total time=   0.2s\n",
      "[CV 1/5] END ....criterion=entropy, max_depth=7;, score=0.996 total time=   0.2s\n",
      "[CV 2/5] END ....criterion=entropy, max_depth=7;, score=0.995 total time=   0.2s\n",
      "[CV 3/5] END ....criterion=entropy, max_depth=7;, score=0.993 total time=   0.2s\n",
      "[CV 4/5] END ....criterion=entropy, max_depth=7;, score=0.997 total time=   0.2s\n",
      "[CV 5/5] END ....criterion=entropy, max_depth=7;, score=0.991 total time=   0.2s\n",
      "[CV 1/5] END ....criterion=entropy, max_depth=8;, score=0.995 total time=   0.2s\n",
      "[CV 2/5] END ....criterion=entropy, max_depth=8;, score=0.995 total time=   0.2s\n",
      "[CV 3/5] END ....criterion=entropy, max_depth=8;, score=0.992 total time=   0.2s\n",
      "[CV 4/5] END ....criterion=entropy, max_depth=8;, score=0.997 total time=   0.2s\n",
      "[CV 5/5] END ....criterion=entropy, max_depth=8;, score=0.992 total time=   0.2s\n"
     ]
    },
    {
     "data": {
      "text/plain": [
       "GridSearchCV(estimator=RandomForestClassifier(),\n",
       "             param_grid={'criterion': ['gini', 'entropy'],\n",
       "                         'max_depth': [3, 4, 5, 6, 7, 8]},\n",
       "             verbose=3)"
      ]
     },
     "execution_count": 284,
     "metadata": {},
     "output_type": "execute_result"
    }
   ],
   "source": [
    "param_grid = {'max_depth':[3,4,5,6,7,8],'criterion':['gini', 'entropy']}\n",
    "rf_grid2 = GridSearchCV(RandomForestClassifier(), param_grid, refit = True, verbose = 3)\n",
    "rf_grid2.fit(x1_train, y1_train)"
   ]
  },
  {
   "cell_type": "code",
   "execution_count": 285,
   "metadata": {
    "colab": {
     "base_uri": "https://localhost:8080/"
    },
    "id": "EZnHdNVnvvH2",
    "outputId": "1b9940d4-701d-4545-a083-73ba9b71d592"
   },
   "outputs": [
    {
     "name": "stdout",
     "output_type": "stream",
     "text": [
      "Best params from Random Forest Classifier [Failure Type] :  {'criterion': 'gini', 'max_depth': 8}\n",
      "Accuracy Score of Random Forest Classifier [Failure Type] :  0.9953333333333333\n",
      "Confusion Matrix of Random Forest Classifier [Failure Type] :\n",
      " [[  23    0    0    0    0    0]\n",
      " [   0 2902    0    1    0    0]\n",
      " [   2    0   19    0    0    1]\n",
      " [   0    0    2   29    0    0]\n",
      " [   0    7    0    0    0    0]\n",
      " [   0    0    1    0    0   13]]\n",
      "Classification Report of Random Forest using GridSearchCV [Failure Type] : \n",
      "               precision    recall  f1-score   support\n",
      "\n",
      "           0       0.92      1.00      0.96        23\n",
      "           1       1.00      1.00      1.00      2903\n",
      "           2       0.86      0.86      0.86        22\n",
      "           3       0.97      0.94      0.95        31\n",
      "           4       0.00      0.00      0.00         7\n",
      "           5       0.93      0.93      0.93        14\n",
      "\n",
      "    accuracy                           1.00      3000\n",
      "   macro avg       0.78      0.79      0.78      3000\n",
      "weighted avg       0.99      1.00      0.99      3000\n",
      "\n",
      "Cohen Kappa: 0.924\n"
     ]
    },
    {
     "name": "stderr",
     "output_type": "stream",
     "text": [
      "/Users/saipranitha/opt/anaconda3/lib/python3.9/site-packages/sklearn/metrics/_classification.py:1318: UndefinedMetricWarning: Precision and F-score are ill-defined and being set to 0.0 in labels with no predicted samples. Use `zero_division` parameter to control this behavior.\n",
      "  _warn_prf(average, modifier, msg_start, len(result))\n",
      "/Users/saipranitha/opt/anaconda3/lib/python3.9/site-packages/sklearn/metrics/_classification.py:1318: UndefinedMetricWarning: Precision and F-score are ill-defined and being set to 0.0 in labels with no predicted samples. Use `zero_division` parameter to control this behavior.\n",
      "  _warn_prf(average, modifier, msg_start, len(result))\n",
      "/Users/saipranitha/opt/anaconda3/lib/python3.9/site-packages/sklearn/metrics/_classification.py:1318: UndefinedMetricWarning: Precision and F-score are ill-defined and being set to 0.0 in labels with no predicted samples. Use `zero_division` parameter to control this behavior.\n",
      "  _warn_prf(average, modifier, msg_start, len(result))\n"
     ]
    }
   ],
   "source": [
    "print(\"Best params from Random Forest Classifier [Failure Type] : \",rf_grid2.best_params_)\n",
    "y1_pred_rf2=rf_grid2.predict(x1_test)\n",
    "print(\"Accuracy Score of Random Forest Classifier [Failure Type] : \",accuracy_score(y1_test,y1_pred_rf2))\n",
    "print(\"Confusion Matrix of Random Forest Classifier [Failure Type] :\\n\",confusion_matrix(y1_test,y1_pred_rf2))\n",
    "print(\"Classification Report of Random Forest using GridSearchCV [Failure Type] : \\n\",classification_report(y1_test,y1_pred_rf2))\n",
    "\n",
    "cohen3_rf2 = metrics.cohen_kappa_score(y1_test,y1_pred_rf2)\n",
    "print('Cohen Kappa: %.3f' % cohen3_rf2)"
   ]
  },
  {
   "cell_type": "code",
   "execution_count": 293,
   "metadata": {},
   "outputs": [
    {
     "data": {
      "image/png": "[encoded data removed]",
      "text/plain": [
       "<Figure size 432x288 with 2 Axes>"
      ]
     },
     "metadata": {
      "needs_background": "light"
     },
     "output_type": "display_data"
    }
   ],
   "source": [
    "ax = sns.heatmap(confusion_matrix(y1_test,y1_pred_rf2), annot=True, cmap='Pastel2')\n",
    "\n",
    "\n",
    "ax.set_title('Random Forest using GridSearchCV Confusion Matrix with labels\\n\\n');\n",
    "ax.set_xlabel('\\nPredicted Values')\n",
    "ax.set_ylabel('Actual Values ');"
   ]
  },
  {
   "cell_type": "markdown",
   "metadata": {},
   "source": [
    "## K- Nearest Neighbor"
   ]
  },
  {
   "cell_type": "code",
   "execution_count": 287,
   "metadata": {
    "colab": {
     "base_uri": "https://localhost:8080/"
    },
    "id": "tr1LptPg2PWU",
    "outputId": "fef8f860-943a-4c20-d5ee-ce3b41dadac7"
   },
   "outputs": [
    {
     "name": "stdout",
     "output_type": "stream",
     "text": [
      "Fitting 5 folds for each of 6 candidates, totalling 30 fits\n",
      "[CV 1/5] END .....................n_neighbors=3;, score=0.994 total time=   0.1s\n",
      "[CV 2/5] END .....................n_neighbors=3;, score=0.991 total time=   0.0s\n",
      "[CV 3/5] END .....................n_neighbors=3;, score=0.988 total time=   0.0s\n",
      "[CV 4/5] END .....................n_neighbors=3;, score=0.995 total time=   0.0s\n",
      "[CV 5/5] END .....................n_neighbors=3;, score=0.991 total time=   0.0s\n",
      "[CV 1/5] END .....................n_neighbors=4;, score=0.995 total time=   0.0s\n",
      "[CV 2/5] END .....................n_neighbors=4;, score=0.990 total time=   0.0s\n",
      "[CV 3/5] END .....................n_neighbors=4;, score=0.990 total time=   0.0s\n",
      "[CV 4/5] END .....................n_neighbors=4;, score=0.995 total time=   0.0s\n",
      "[CV 5/5] END .....................n_neighbors=4;, score=0.989 total time=   0.0s\n",
      "[CV 1/5] END .....................n_neighbors=5;, score=0.994 total time=   0.0s\n",
      "[CV 2/5] END .....................n_neighbors=5;, score=0.990 total time=   0.0s\n",
      "[CV 3/5] END .....................n_neighbors=5;, score=0.990 total time=   0.0s\n",
      "[CV 4/5] END .....................n_neighbors=5;, score=0.994 total time=   0.0s\n",
      "[CV 5/5] END .....................n_neighbors=5;, score=0.990 total time=   0.0s\n",
      "[CV 1/5] END .....................n_neighbors=6;, score=0.994 total time=   0.0s\n",
      "[CV 2/5] END .....................n_neighbors=6;, score=0.989 total time=   0.0s\n",
      "[CV 3/5] END .....................n_neighbors=6;, score=0.991 total time=   0.0s\n",
      "[CV 4/5] END .....................n_neighbors=6;, score=0.994 total time=   0.0s\n",
      "[CV 5/5] END .....................n_neighbors=6;, score=0.989 total time=   0.0s\n",
      "[CV 1/5] END .....................n_neighbors=7;, score=0.994 total time=   0.0s\n",
      "[CV 2/5] END .....................n_neighbors=7;, score=0.990 total time=   0.0s\n",
      "[CV 3/5] END .....................n_neighbors=7;, score=0.991 total time=   0.0s\n",
      "[CV 4/5] END .....................n_neighbors=7;, score=0.993 total time=   0.0s\n",
      "[CV 5/5] END .....................n_neighbors=7;, score=0.988 total time=   0.0s\n",
      "[CV 1/5] END .....................n_neighbors=8;, score=0.992 total time=   0.0s\n",
      "[CV 2/5] END .....................n_neighbors=8;, score=0.989 total time=   0.0s\n",
      "[CV 3/5] END .....................n_neighbors=8;, score=0.991 total time=   0.0s\n",
      "[CV 4/5] END .....................n_neighbors=8;, score=0.991 total time=   0.0s\n",
      "[CV 5/5] END .....................n_neighbors=8;, score=0.989 total time=   0.0s\n"
     ]
    },
    {
     "data": {
      "text/plain": [
       "GridSearchCV(estimator=KNeighborsClassifier(),\n",
       "             param_grid={'n_neighbors': [3, 4, 5, 6, 7, 8]}, verbose=3)"
      ]
     },
     "execution_count": 287,
     "metadata": {},
     "output_type": "execute_result"
    }
   ],
   "source": [
    "param_grid = {'n_neighbors':[3,4,5,6,7,8]}\n",
    "knn_grid2 = GridSearchCV(KNeighborsClassifier(), param_grid, refit = True, verbose = 3)\n",
    "knn_grid2.fit(x1_train,y1_train)"
   ]
  },
  {
   "cell_type": "code",
   "execution_count": 288,
   "metadata": {
    "colab": {
     "base_uri": "https://localhost:8080/"
    },
    "id": "KdmuPIQe2UQI",
    "outputId": "b2dd3f14-0f47-462e-aa29-fa234b1a932d"
   },
   "outputs": [
    {
     "name": "stdout",
     "output_type": "stream",
     "text": [
      "Best params from KNN [Failure Type] :  {'n_neighbors': 4}\n",
      "Accuracy Score of KNN [Failure Type] :  0.9893333333333333\n",
      "Confusion Matrix of KNN [Failure Type] :\n",
      " [[  22    0    1    0    0    0]\n",
      " [   2 2900    0    0    0    1]\n",
      " [   1    0   19    1    0    1]\n",
      " [   8    0    7   15    0    1]\n",
      " [   0    7    0    0    0    0]\n",
      " [   1    0    0    1    0   12]]\n",
      "Classification Report of KNN using GridSearchCV [Failure Type] : \n",
      "               precision    recall  f1-score   support\n",
      "\n",
      "           0       0.65      0.96      0.77        23\n",
      "           1       1.00      1.00      1.00      2903\n",
      "           2       0.70      0.86      0.78        22\n",
      "           3       0.88      0.48      0.62        31\n",
      "           4       0.00      0.00      0.00         7\n",
      "           5       0.80      0.86      0.83        14\n",
      "\n",
      "    accuracy                           0.99      3000\n",
      "   macro avg       0.67      0.69      0.67      3000\n",
      "weighted avg       0.99      0.99      0.99      3000\n",
      "\n",
      "Cohen Kappa: 0.828\n"
     ]
    },
    {
     "name": "stderr",
     "output_type": "stream",
     "text": [
      "/Users/saipranitha/opt/anaconda3/lib/python3.9/site-packages/sklearn/metrics/_classification.py:1318: UndefinedMetricWarning: Precision and F-score are ill-defined and being set to 0.0 in labels with no predicted samples. Use `zero_division` parameter to control this behavior.\n",
      "  _warn_prf(average, modifier, msg_start, len(result))\n",
      "/Users/saipranitha/opt/anaconda3/lib/python3.9/site-packages/sklearn/metrics/_classification.py:1318: UndefinedMetricWarning: Precision and F-score are ill-defined and being set to 0.0 in labels with no predicted samples. Use `zero_division` parameter to control this behavior.\n",
      "  _warn_prf(average, modifier, msg_start, len(result))\n",
      "/Users/saipranitha/opt/anaconda3/lib/python3.9/site-packages/sklearn/metrics/_classification.py:1318: UndefinedMetricWarning: Precision and F-score are ill-defined and being set to 0.0 in labels with no predicted samples. Use `zero_division` parameter to control this behavior.\n",
      "  _warn_prf(average, modifier, msg_start, len(result))\n"
     ]
    }
   ],
   "source": [
    "print(\"Best params from KNN [Failure Type] : \",knn_grid2.best_params_)\n",
    "y1_pred_knn2=knn_grid2.predict(x1_test)\n",
    "print(\"Accuracy Score of KNN [Failure Type] : \",accuracy_score(y1_test,y1_pred_knn2))\n",
    "print(\"Confusion Matrix of KNN [Failure Type] :\\n\",confusion_matrix(y1_test,y1_pred_knn2))\n",
    "print(\"Classification Report of KNN using GridSearchCV [Failure Type] : \\n\",classification_report(y1_test,y1_pred_knn2))\n",
    "\n",
    "cohen3_knn2 = metrics.cohen_kappa_score(y1_test,y1_pred_knn2)\n",
    "print('Cohen Kappa: %.3f' % cohen3_knn2)"
   ]
  },
  {
   "cell_type": "code",
   "execution_count": 289,
   "metadata": {},
   "outputs": [
    {
     "data": {
      "image/png": "[encoded data removed]",
      "text/plain": [
       "<Figure size 432x288 with 2 Axes>"
      ]
     },
     "metadata": {
      "needs_background": "light"
     },
     "output_type": "display_data"
    }
   ],
   "source": [
    "ax = sns.heatmap(confusion_matrix(y1_test,y1_pred_knn2), annot=True, cmap='Pastel2')\n",
    "\n",
    "\n",
    "ax.set_title('K-nearest Neighbor using GridSearchCV Confusion Matrix with labels\\n\\n');\n",
    "ax.set_xlabel('\\nPredicted Values')\n",
    "ax.set_ylabel('Actual Values ');"
   ]
  }
 ],
 "metadata": {
  "colab": {
   "collapsed_sections": [],
   "name": "ML Clemens.ipynb",
   "provenance": []
  },
  "kernelspec": {
   "display_name": "Python 3 (ipykernel)",
   "language": "python",
   "name": "python3"
  },
  "language_info": {
   "codemirror_mode": {
    "name": "ipython",
    "version": 3
   },
   "file_extension": ".py",
   "mimetype": "text/x-python",
   "name": "python",
   "nbconvert_exporter": "python",
   "pygments_lexer": "ipython3",
   "version": "3.9.12"
  }
 },
 "nbformat": 4,
 "nbformat_minor": 1
}
